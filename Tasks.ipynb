{
 "cells": [
  {
   "cell_type": "markdown",
   "metadata": {},
   "source": [
    "# TASKS\n",
    "This notebook is for solutions to the various task assignments part of the Fundamentals of Data Analysis Module at GMIT.\n",
    "\n",
    "**The author is me, Keith Ryan - g00387816@gmit.ie**"
   ]
  },
  {
   "cell_type": "markdown",
   "metadata": {},
   "source": [
    "## Task 1 Brief - Write a Python function called Counts\n",
    "This function takes a list as input and returns a dictionary of unique items in the list as keys and the number of times each item appears as values.  So, with an input of ['A','A','B','C','A'], should return the output {'A': 3,'B': 1,'C': 1}.\n",
    "\n",
    "Your code should not depend on any module from the standard library or otherwise. You should research the task first and include a description with references of your algorithm in the notebook."
   ]
  },
  {
   "cell_type": "markdown",
   "metadata": {},
   "source": [
    "## Research and thoughts on the problem\n",
    "At face value to count the number of occurences of each value in a list will first need to loop through every item in list. As it loops through item by item check has this item already been seen, if so increment some counter by 1, if not set a count of 1 for the current item.\n",
    "In python terms:\n",
    "- Need a list as an input \n",
    "- A dict to store the items of the list (key) \n",
    "- A count of the number of occurences of that specific item (value)\n",
    "- And finally the input list will be iterated through using a for loop.\n",
    "\n",
    "The list and for loop are pretty self-explanatory but how to add items to a dictionary and check if one has already been added is the interesting part."
   ]
  },
  {
   "cell_type": "code",
   "execution_count": 2,
   "metadata": {},
   "outputs": [
    {
     "name": "stdout",
     "output_type": "stream",
     "text": [
      "<class 'dict'>\n",
      "Printing the entire dict - {'a': 1}\n",
      "Printing the dict's key-value - 1\n"
     ]
    }
   ],
   "source": [
    "#creating a dict object and assigning a value to a key\n",
    "#dictionaries operate as a key-pair or key-value, where when you supply a key to a dict object it \n",
    "# returns the corresponding value\n",
    "test_dict = {}\n",
    "print(type(test_dict))\n",
    "test_dict['a'] = 1\n",
    "print(f\"Printing the entire dict - {test_dict}\")\n",
    "print(f\"Printing the dict's key-value - {test_dict['a']}\")"
   ]
  },
  {
   "cell_type": "markdown",
   "metadata": {},
   "source": [
    "To check whether key exists already or not, dict.get() seems like a good approach. \n",
    "[dict.get() documentation](https://docs.python.org/3/library/stdtypes.html?highlight=#dict.get)\n",
    "The first argument passed to dict.get() represents the key we are trying to get, the second optional argument is what to return if the key cannot be found, if supplying no value here *None* is returned\n",
    "\n",
    "The next cell is testing this idea out in a for loop and then turning that bit of logic into a function.\n"
   ]
  },
  {
   "cell_type": "code",
   "execution_count": 3,
   "metadata": {},
   "outputs": [
    {
     "name": "stdout",
     "output_type": "stream",
     "text": [
      "A B X Y X A A \n",
      "{'A': 3, 'B': 1, 'X': 2, 'Y': 1}\n"
     ]
    }
   ],
   "source": [
    "#first I need a list to test with\n",
    "test_list = ['A', 'B', 'X', 'Y', 'X', 'A', 'A']\n",
    "#next I will need a dictionary for storing the key-value pairs\n",
    "test_dict = {}\n",
    "\n",
    "#simple for loop to iterate through the list\n",
    "for i in test_list:\n",
    "    print(i, end=' ')\n",
    "    #second arg for .get is 0, .get returns this value should the key not exist\n",
    "    test_dict[i] = test_dict.get(i,0) + 1\n",
    "    '''\n",
    "    Older solution, can be done in single line instead taking advantage of get return value if nothing found\n",
    "    if test_dict.get(i, False) == False:\n",
    "        test_dict[i] = 1 #add key and set value to one\n",
    "    else: \n",
    "        test_dict[i] += 1 #increment key value\n",
    "        \n",
    "    '''\n",
    "print() #introduce a new line between previous print and next print\n",
    "print(test_dict)"
   ]
  },
  {
   "cell_type": "markdown",
   "metadata": {},
   "source": [
    "## Taking tested solution and enclosing with function"
   ]
  },
  {
   "cell_type": "code",
   "execution_count": 4,
   "metadata": {},
   "outputs": [],
   "source": [
    "\n",
    "def list_to_dict(input_list):\n",
    "    #initialise blank dict\n",
    "    output_dict = {}\n",
    "    #loop through provided list\n",
    "    for item in input_list:\n",
    "        #taking advantage of dict.get return, if item not found in dict return 0 then add 1\n",
    "        output_dict[item] = output_dict.get(item, 0) + 1\n",
    "    \n",
    "    return output_dict #return the dictionary"
   ]
  },
  {
   "cell_type": "code",
   "execution_count": 5,
   "metadata": {},
   "outputs": [
    {
     "name": "stdout",
     "output_type": "stream",
     "text": [
      "Provided list - ['A', 'B', 'X', 'Y', 'X', 'A', 'A']\n",
      "Count of items in list - {'A': 3, 'B': 1, 'X': 2, 'Y': 1}\n"
     ]
    }
   ],
   "source": [
    "print(f\"Provided list - {test_list}\")\n",
    "returned_dict = list_to_dict(test_list) #store the result from function call in variable my_dict, then print it\n",
    "print(f\"Count of items in list - {returned_dict}\")"
   ]
  },
  {
   "cell_type": "code",
   "execution_count": 7,
   "metadata": {},
   "outputs": [
    {
     "name": "stdin",
     "output_type": "stream",
     "text": [
      "Enter again if you would like, stop with a blank input:  \n"
     ]
    },
    {
     "name": "stdout",
     "output_type": "stream",
     "text": [
      "You have entered the following:  ['1', 'a', 'a', 'a', '1', '1', '11', '11', 'b', 'b', 'a', 'b', '1']\n"
     ]
    },
    {
     "data": {
      "text/plain": [
       "{'1': 4, 'a': 4, '11': 2, 'b': 3}"
      ]
     },
     "execution_count": 7,
     "metadata": {},
     "output_type": "execute_result"
    }
   ],
   "source": [
    "from IPython.display import clear_output #Clearing the notebook cell https://stackoverflow.com/questions/24816237/ipython-notebook-clear-cell-output-in-code\n",
    "'''\n",
    "Here for a bit of fun I wanted to refamiliarise myself with taking a user input from \n",
    "one of the previous modules.\n",
    "'''\n",
    "user_list = []\n",
    "user_in = str(input(\"Enter some values and stop with blank input:\"))\n",
    "\n",
    "while user_in != '':\n",
    "    clear_output() #after every input clear the output cell\n",
    "    user_list.append(user_in) #after every input append it to list of user inputs\n",
    "    user_in = str(input(\"Enter again if you would like, stop with a blank input: \"))\n",
    "\n",
    "print(\"You have entered the following: \", user_list)\n",
    "list_to_dict(user_list)"
   ]
  },
  {
   "cell_type": "markdown",
   "metadata": {},
   "source": [
    "## Alternate way of getting same count\n",
    "Instead of using dict.get to verify whether key already exists or not, it's simpler to just use list.count() to return a count of the specified item within the list. - [see list.count() in python3 datastructures documentation](https://docs.python.org/3/tutorial/datastructures.html)\n",
    "\n",
    "Interestingly the count function likewise works for tuples."
   ]
  },
  {
   "cell_type": "code",
   "execution_count": 8,
   "metadata": {},
   "outputs": [
    {
     "name": "stdout",
     "output_type": "stream",
     "text": [
      "{'A', 'Y', 'B', 'X'}\n",
      "{'A': 3, 'Y': 1, 'B': 1, 'X': 2}\n"
     ]
    }
   ],
   "source": [
    "#initially did this without a set, but can make it more efficient if using a set to first convert the list to just it's unique items\n",
    "#in practice this will probably not generally be an issue, but in cases of massive lists, would probably be a very efficient approach\n",
    "unique_items_set = set(test_list) \n",
    "print(unique_items_set)\n",
    "my_dict = {}\n",
    "for i in unique_items_set:\n",
    "    my_dict[i] = test_list.count(i)\n",
    "print(my_dict)"
   ]
  },
  {
   "cell_type": "code",
   "execution_count": 9,
   "metadata": {},
   "outputs": [],
   "source": [
    "def list_count_to_dict(input_list):\n",
    "    #convert list into set to get unique values of the list\n",
    "    input_set = set(input_list)\n",
    "    #initialise blank dictionary\n",
    "    output_dict = {}\n",
    "    #iterate through each item in set (e.g. each unique value from input_list)\n",
    "    for item in input_set:\n",
    "        output_dict[item] = input_list.count(item) #output_dict keys are equal to the count of that item from the list\n",
    "        \n",
    "    return output_dict"
   ]
  },
  {
   "cell_type": "code",
   "execution_count": 10,
   "metadata": {},
   "outputs": [
    {
     "name": "stdout",
     "output_type": "stream",
     "text": [
      "Provided list - ['A', 'B', 'X', 'Y', 'X', 'A', 'A']\n",
      "Count of items in list - {'A': 3, 'Y': 1, 'B': 1, 'X': 2}\n"
     ]
    }
   ],
   "source": [
    "#Returns the counted dict object\n",
    "print(f\"Provided list - {test_list}\")\n",
    "returned_dict = list_count_to_dict(test_list)\n",
    "print(f\"Count of items in list - {returned_dict}\")"
   ]
  },
  {
   "cell_type": "code",
   "execution_count": 13,
   "metadata": {},
   "outputs": [],
   "source": [
    "'''To test the functions against one another, thought it would be neat to make a large list of random strings'''\n",
    "import numpy as np #importing numpy for it's random package\n",
    "import string #importing string to return a string containing letters of the alphabet upper and lowercase\n",
    "\n",
    "alphabet_list = list(string.ascii_letters) #https://stackoverflow.com/questions/2823316/generate-a-random-letter-in-python\n",
    "random_array = np.random.choice(alphabet_list, size=10000)\n",
    "\n",
    "#annoyingly but maybe obviously, list_count_to_dict function can't handle numpy arrays as it relies on list.count\n",
    "#https://numpy.org/doc/stable/reference/generated/numpy.ndarray.tolist.html\n",
    "big_test_list = random_array.tolist()"
   ]
  },
  {
   "cell_type": "code",
   "execution_count": 14,
   "metadata": {},
   "outputs": [
    {
     "name": "stdout",
     "output_type": "stream",
     "text": [
      "780 µs ± 71.7 µs per loop (mean ± std. dev. of 7 runs, 1000 loops each)\n"
     ]
    }
   ],
   "source": [
    "%%timeit\n",
    "list_to_dict(big_test_list)"
   ]
  },
  {
   "cell_type": "code",
   "execution_count": 15,
   "metadata": {},
   "outputs": [
    {
     "name": "stdout",
     "output_type": "stream",
     "text": [
      "5.84 ms ± 28.3 µs per loop (mean ± std. dev. of 7 runs, 100 loops each)\n"
     ]
    }
   ],
   "source": [
    "%%timeit\n",
    "list_count_to_dict(big_test_list)"
   ]
  },
  {
   "cell_type": "markdown",
   "metadata": {},
   "source": [
    "# Summary and Conclusion of Task 1\n",
    "I found 2 different ways of getting the number of times an item appears in a list.\n",
    "The first was the more obvious solution to me, knowing that as we iterate through a list we can simply add to the dictionary and increment as we go but also accounting for when the item does not already exist in the dictionary.\n",
    "\n",
    "- First was simply to iterate through the list, checking whether the item was already present in the dictionary object, if it was not present add the item to the dictionary and set its value to 1, if it is present increment its value by 1\n",
    "- Alternative solution is to create a set out of the given list to get all of the unique values, then iterating through the set add each item to the dictionary object and set its value equal to the count of that item from the list. This solution has a quirk by changing the order the list items appear in, so if the order of items appearing in the list were to matter this would not work as a solution.\n",
    "\n",
    "In practice I would gravitate more towards the second function which uses a Set to get just the unique items in the list and then iterating through the Set assign each item as a key in the dictionary and put its value as the count of that item from the list - the advantage of this approach is you are not looping through for every item in a list, instead you loop through each unique item in the list by taking advantage of how Sets work and inbuilt list functions.\n",
    "However despite my preference, as we can see with the above %%timeit magic commands, the list_to_dict function (which relies on inbuilt dict functions) runs far quicker than it's list_count_to_dict function counterpart (which makes use of sets and list inbuilt functions).\n",
    "***\n"
   ]
  },
  {
   "cell_type": "markdown",
   "metadata": {},
   "source": [
    "# Task 2 Brief - Write a Python function called dicerolls\n",
    "The task this time is to create a function that simulates rolling dice, it should take two parameters, the number of dice and the number of times to roll them. The function will simulate random rolls of the dice and keep track of the total number of occurences of the sum of the dice rolls.\n",
    "\n",
    "After the function has finished it returns a dictionary object holding the number of occurrences the different dice face totals occurred.\n",
    "\n",
    "`{2:19,3:50,4:82,5:112,6:135,7:174,8:133,9:114,10:75,11:70,12:36}`"
   ]
  },
  {
   "cell_type": "code",
   "execution_count": 16,
   "metadata": {},
   "outputs": [
    {
     "name": "stdout",
     "output_type": "stream",
     "text": [
      "Number of dice selected 2 to roll 1000 times\n",
      "Minimum face total = 2\n",
      "Maximum face total = 12\n",
      "Number of dice selected 4 to roll 10 times\n",
      "Minimum face total = 4\n",
      "Maximum face total = 24\n"
     ]
    }
   ],
   "source": [
    "#With this function I want to show what kind of size of dictionary will eventually be returned by the dicerolls function\n",
    "#the more dice you add, the more face totals there will be\n",
    "def exploring_dicerolls(n_dice, n_rolls):\n",
    "    print(f\"Number of dice selected {n_dice} to roll {n_rolls} times\")\n",
    "    print(f\"Minimum face total = {n_dice}\")\n",
    "    print(f\"Maximum face total = {n_dice*6}\")\n",
    "    \n",
    "#try different numbers of dice to show min and max face totals\n",
    "exploring_dicerolls(2,1000)\n",
    "exploring_dicerolls(4,10)"
   ]
  },
  {
   "cell_type": "markdown",
   "metadata": {},
   "source": [
    "## Research and attempts\n",
    "***\n",
    "Exploring the task in earnest now, I can see that we will need to use a library to produce random numbers, unfortunately given the task brief I can only make use of the Standard Python Library, which in this case rules out numpy.random.\n",
    "\n",
    "Handily though the Standard Python Library does have a package that should do exactly what is needed for the dice rolls https://docs.python.org/3/library/random.html\n",
    "\n",
    "Specifically the module random.randint is relevant here as I only want to return an integer value and want to specify 2 numbers as the limits.\n",
    "\n",
    "Initially I thought of a shortcut, where instead of doing individual dice rolls I could instead just get a random number between the min and max of the face totals of the dice rolled, however in practice I saw the issue with this pretty quickly and have imported matplotlib below to illustrate."
   ]
  },
  {
   "cell_type": "code",
   "execution_count": 17,
   "metadata": {},
   "outputs": [
    {
     "data": {
      "image/png": "[encoded data removed]",
      "text/plain": [
       "<Figure size 432x288 with 1 Axes>"
      ]
     },
     "metadata": {
      "needs_background": "light"
     },
     "output_type": "display_data"
    }
   ],
   "source": [
    "import random\n",
    "import matplotlib.pyplot as plt\n",
    "\n",
    "n_dice = 2\n",
    "n_rolls = 100000\n",
    "my_list = []\n",
    "for i in range(n_rolls):\n",
    "    my_list.append(random.randint(n_dice, n_dice*6))\n",
    "plt.hist(my_list);"
   ]
  },
  {
   "cell_type": "markdown",
   "metadata": {},
   "source": [
    "The above histogram plot was very surprising, I expected to see a uniform (practically flat) distribution but instead see a peak around 12.\n",
    "\n",
    "After a bit of playing around with the histogram plot I realised it was down to the number of bins used, as you can see above the last bar around 12 is about twice the height of all the other bars so the bar at 12 is actually covering 11 and 12, see corrected histogram plot below."
   ]
  },
  {
   "cell_type": "code",
   "execution_count": 18,
   "metadata": {},
   "outputs": [
    {
     "data": {
      "image/png": "[encoded data removed]",
      "text/plain": [
       "<Figure size 432x288 with 1 Axes>"
      ]
     },
     "metadata": {
      "needs_background": "light"
     },
     "output_type": "display_data"
    }
   ],
   "source": [
    "# want the number of bins to be 1 greater than the max minus the min \n",
    "# as we want our bins to be inclusive of every point on the range.\n",
    "num_bins = ((n_dice*6) - n_dice) + 1 \n",
    "plt.hist(my_list, bins=num_bins);"
   ]
  },
  {
   "cell_type": "markdown",
   "metadata": {},
   "source": [
    "The issue with the above is that it is not representative of what we would expect to see when rolling dice, when rolling dice (and as illustrated with example Ian provided in the Assignment) we should see a normal distribution, where values to the min and max of the range appear less frequently than those in the middle.\n",
    "\n",
    "If we rolled two dice a number of times, values like 2 and 12 occur less frequently than more central values like and the reason for this is very simple. You can only get 2 and 12 by rolling 1, 1 and 6, 6 respectively, but for other values like say 5, can instead be made up by a number of potential dice rolls (5 could be rolled with a combination of a 1 and 4, 2 and 3 and those combinations in reverse too as the order they occured could change).\n",
    "\n",
    "So for 2 and 12 there is only 1 scenario where we can get either face total, but for 5 we have 4 possible scenarios, therefore 5 is more likely to be seen more frequently.\n",
    "\n",
    "What this means for the function is we need to do independent dice rolls, e.g. a random number between 1 and 6 2 times as opposed to a random number between 2 and 12."
   ]
  },
  {
   "cell_type": "code",
   "execution_count": 19,
   "metadata": {},
   "outputs": [
    {
     "data": {
      "image/png": "[encoded data removed]",
      "text/plain": [
       "<Figure size 432x288 with 1 Axes>"
      ]
     },
     "metadata": {
      "needs_background": "light"
     },
     "output_type": "display_data"
    }
   ],
   "source": [
    "#keeping same structure as before\n",
    "n_dice = 2\n",
    "n_rolls = 100000\n",
    "my_list = []\n",
    "#but changing how the for loop works\n",
    "for i in range(n_rolls):\n",
    "    face_total = 0\n",
    "    for j in range(n_dice):\n",
    "        face_total += random.randint(1,6)\n",
    "    \n",
    "    my_list.append(face_total)\n",
    "plt.hist(my_list, bins=num_bins);"
   ]
  },
  {
   "cell_type": "markdown",
   "metadata": {},
   "source": [
    "The above histogram plot looks much more like what I initially expected to see for the dice rolls."
   ]
  },
  {
   "cell_type": "code",
   "execution_count": 20,
   "metadata": {},
   "outputs": [
    {
     "name": "stdout",
     "output_type": "stream",
     "text": [
      "{2: 2759, 3: 5633, 4: 8318, 5: 11318, 6: 13942, 7: 16523, 8: 13841, 9: 11026, 10: 8183, 11: 5592, 12: 2865}\n"
     ]
    }
   ],
   "source": [
    "my_dict = list_count_to_dict(my_list) #using the previous function from Task 1 to count the list\n",
    "print(my_dict)"
   ]
  },
  {
   "cell_type": "markdown",
   "metadata": {},
   "source": [
    "***\n",
    "## Function - diceRolls\n",
    "***\n",
    "From the last few cells I think I now have a pretty good way of getting the face totals and their count into a dictionary, so now to convert that into a function that takes inputs"
   ]
  },
  {
   "cell_type": "code",
   "execution_count": 21,
   "metadata": {},
   "outputs": [],
   "source": [
    "def diceRolls(n_dice, n_rolls):\n",
    "    face_total_list = []\n",
    "    #loop by number of rolls\n",
    "    for i in range(n_rolls):\n",
    "        face_total = 0 #set face_total to 0 on every new roll\n",
    "        for j in range(n_dice): #for every dice to be rolled n_dice \n",
    "            face_total += random.randint(1,6) #pick a random number from 1 to 6 and add it to face_total\n",
    "        face_total_list.append(face_total) #after finishing loop to tally face_total, continue roll loop\n",
    "    \n",
    "    #finally return a dictionary object in the format {face total : number of occurence} using solution from first task\n",
    "    return list_to_dict(face_total_list)\n",
    "    "
   ]
  },
  {
   "cell_type": "code",
   "execution_count": 22,
   "metadata": {},
   "outputs": [
    {
     "name": "stdout",
     "output_type": "stream",
     "text": [
      "{6: 170, 2: 193, 4: 161, 3: 157, 1: 155, 5: 164}\n",
      "{365: 1}\n",
      "{34: 744, 44: 198, 40: 474, 38: 641, 36: 749, 35: 728, 33: 741, 47: 63, 39: 587, 37: 624, 42: 292, 32: 597, 29: 416, 51: 7, 21: 18, 27: 267, 22: 45, 46: 81, 28: 313, 31: 562, 25: 137, 30: 456, 41: 408, 23: 70, 26: 194, 45: 140, 43: 247, 24: 88, 53: 4, 48: 40, 50: 14, 20: 8, 49: 26, 18: 8, 17: 2, 19: 5, 52: 4, 54: 1, 16: 1}\n"
     ]
    }
   ],
   "source": [
    "print(diceRolls(1,1000))\n",
    "print(diceRolls(100,1))\n",
    "print(diceRolls(10, 10000))"
   ]
  },
  {
   "cell_type": "markdown",
   "metadata": {},
   "source": [
    "## Task 2 Summary and Conclusion\n",
    "\n",
    "For generating the above dice rolls the only packages imported were python's inbuilt random package for generating random numbers and matplotlib for showing the distribution of dice rolls.\n",
    "\n",
    "To simulate the dice rolls I created a function that takes two input arguments, n_dice for the number of dice to use and n_rolls for the number of rolls, esentially the amount of dice to throw per roll and the number of rolls total.\n",
    "\n",
    "Within the function it loops through the number of rolls and per roll it has an inner loop for each of the dice thrown, the for loops simulate the dice rolls to be performed (using random.randint(1,6)) and the outcome of each set of dice rolls is kept track of in face_total_list variable.\n",
    "\n",
    "As the face_total_list variable contains a list of the sum of all dice rolls, we can pass it as an argument to the list_to_dict function from Task 1, which will return a dictionary object counting the amount of times each sum of dice roll - which the above function diceRolls returns."
   ]
  },
  {
   "cell_type": "markdown",
   "metadata": {},
   "source": [
    "***\n",
    "# Task 3\n",
    "## Distribution of coin flips\n",
    "\n",
    "The third task is to simulate coin flips, specifically it is to simulate the number of heads occurring after 100 coin flips and then simulate that 1000 times, visualising the resulting list/array of 1000 numbers (this assumes that the coin is fair, so either heads or tails is equally likely).\n",
    "\n",
    "First I will set up a random number generator to provide random values."
   ]
  },
  {
   "cell_type": "code",
   "execution_count": 81,
   "metadata": {},
   "outputs": [
    {
     "name": "stdout",
     "output_type": "stream",
     "text": [
      "quick test of random number generator - 9\n"
     ]
    }
   ],
   "source": [
    "import numpy as np\n",
    "rng = np.random.default_rng() #using a default_rng object instead of numpy.random functions directly https://numpy.org/doc/stable/reference/random/generator.html\n",
    "print(\"quick test of random number generator -\", rng.integers(10))"
   ]
  },
  {
   "cell_type": "markdown",
   "metadata": {},
   "source": [
    "## Brief bit of theory around Binomial Distributions\n",
    "\n",
    "[Wikipedia Entry on Binomial Distribution](https://en.wikipedia.org/wiki/Binomial_distribution)\n",
    "\n",
    "[Statistics How To Link](https://www.statisticshowto.com/probability-and-statistics/binomial-theorem/binomial-distribution-formula/)\n",
    "\n",
    "A binomial distribution in simple terms is a distribution that shows the amount of times some event occurs when there are two possible outcomes and given it has a fixed probability of occurring and all occurrences are independent (an example of this for coin flip being yes/no for heads over 100 coin flips).\n",
    "\n",
    "I've skipped ahead a bit and produced a binomial distribution which can be seen in the below image, here the y axis shows the probability for each of the bins, the bins are along the x-axis and this represents the number of heads from coin flips (the bin size in this case is in steps of 5 starting from 20 ending at 80), and in this case the probability of getting between 50 and 55 is around 0.35.\n",
    "\n",
    "![image.png](images/binomial_example.png)\n",
    "\n",
    "\n",
    "## Binomial Distribution function in numpy package\n",
    "\n",
    "From the numpy.random documentation the binomial distribution function takes 3 arguments, n for number of trials, p for probability and size for the size of the array to return.\n",
    "\n",
    "https://numpy.org/doc/stable/reference/random/generated/numpy.random.Generator.binomial.html#numpy.random.Generator.binomial\n",
    "\n",
    "From the task definition from Ian, we know that our size (n) is 100 as we want to flip a coin 100 times and observe the result, secondly we know that our probability (p) is 0.5 as there's a 50% chance for either heads or tails and lastly or size is 1000 as we are simulating this 1000 times overall.\n",
    "\n",
    "In the case of this example whether we are counting the occurrences of heads or tails with the distribution is subjective (as either event is just as likely), in fact with the binomial function we are not explicitly asking it to tell us the number of occurences of heads, instead what we are asking of the function is to show us the number of occurrences for an event with a 50% chance of happening, happens over 100 tries and then repeating that 1000 times.\n",
    "\n",
    "This then gives us our distribution showing the total number of 'wins' or 'heads' that occurred for each set of 100 tries over the 1000 repeats."
   ]
  },
  {
   "cell_type": "code",
   "execution_count": 82,
   "metadata": {},
   "outputs": [
    {
     "name": "stdout",
     "output_type": "stream",
     "text": [
      "What the output of the binomial function returns for distribution of 100 coinflips simulated 1000 times\n",
      " [45 49 53 50 51 55 45 53 59 44 52 53 57 46 41 56 39 52 61 42 47 54 44 54\n",
      " 42 49 47 52 48 46 56 53 51 55 55 52 56 50 54 51 56 48 58 45 45 49 56 46\n",
      " 47 42 47 37 50 51 54 51 57 52 54 56 46 47 42 47 50 48 55 44 56 54 46 40\n",
      " 51 53 55 44 51 48 49 55 42 45 51 46 56 49 58 51 53 52 50 54 47 51 47 45\n",
      " 52 41 51 46 49 53 53 55 49 49 42 51 61 52 41 43 61 49 43 53 45 47 47 49\n",
      " 53 49 50 54 48 51 55 44 51 49 47 51 56 58 51 44 46 49 44 54 44 49 59 51\n",
      " 58 38 42 59 53 48 57 59 55 51 37 54 47 57 59 44 50 49 42 56 55 57 46 53\n",
      " 48 48 50 54 53 40 54 47 46 55 48 48 50 46 47 50 47 45 47 53 58 48 50 52\n",
      " 53 48 50 40 41 51 47 48 57 43 52 43 48 45 47 44 51 54 49 45 46 46 53 49\n",
      " 55 50 53 56 50 46 51 46 41 43 49 54 54 33 41 53 50 49 54 45 61 50 54 48\n",
      " 48 49 50 52 51 49 45 43 52 54 50 50 41 48 47 55 48 49 41 48 54 53 51 54\n",
      " 43 54 48 39 49 44 51 51 59 54 49 46 47 53 51 42 47 48 42 47 52 46 58 43\n",
      " 56 35 54 54 46 50 54 50 42 50 44 45 45 51 49 45 52 58 48 36 50 52 45 43\n",
      " 50 53 46 40 52 48 38 47 60 50 46 55 56 44 53 50 43 44 57 51 59 43 50 50\n",
      " 47 52 55 47 53 45 45 60 49 46 54 54 51 47 52 49 52 56 61 52 47 51 48 43\n",
      " 50 52 57 49 48 48 55 46 46 50 52 50 55 52 56 53 46 48 45 51 55 53 39 49\n",
      " 58 53 47 58 48 53 48 43 53 51 52 46 49 55 41 51 52 56 49 44 58 52 51 51\n",
      " 55 52 49 46 50 58 50 47 50 54 58 45 56 50 56 46 47 51 60 56 43 49 43 47\n",
      " 51 43 57 49 53 43 47 43 56 59 49 48 44 45 45 50 47 55 55 52 49 59 45 60\n",
      " 52 46 46 48 59 52 53 47 46 41 60 54 49 55 43 60 49 54 44 49 50 46 50 51\n",
      " 55 48 52 45 47 47 53 53 53 49 48 57 46 57 45 54 44 57 52 43 51 52 51 52\n",
      " 57 44 51 57 43 47 64 46 52 47 49 54 49 53 48 53 61 53 45 56 52 53 51 52\n",
      " 51 54 40 58 51 54 49 47 49 63 52 49 42 54 43 51 45 59 45 51 58 43 45 49\n",
      " 40 44 49 50 43 52 53 47 44 52 46 49 57 47 52 53 55 54 55 45 55 53 51 61\n",
      " 54 44 48 56 56 52 51 56 56 63 36 54 56 52 37 53 48 53 49 53 49 42 48 52\n",
      " 57 58 51 49 52 45 52 52 50 47 50 49 50 47 59 49 62 48 52 52 45 54 47 43\n",
      " 48 48 47 57 54 49 37 45 57 48 47 54 50 48 50 52 58 53 51 50 41 48 65 56\n",
      " 49 58 52 48 54 49 50 50 49 53 52 49 46 50 54 53 50 39 47 54 43 45 55 44\n",
      " 47 56 54 52 57 49 53 51 58 43 45 60 59 44 49 52 47 46 44 49 44 52 46 56\n",
      " 51 55 53 58 59 51 53 48 52 53 42 55 59 54 52 53 47 52 41 47 53 48 45 59\n",
      " 51 53 52 52 42 46 53 44 43 55 51 48 56 49 49 52 53 43 48 44 51 51 49 56\n",
      " 49 41 67 51 49 54 50 51 59 56 53 44 41 44 46 47 48 51 48 61 49 59 48 51\n",
      " 49 52 48 55 46 53 44 46 44 47 53 61 50 47 49 46 49 38 52 56 49 54 49 48\n",
      " 49 54 59 48 52 53 42 51 55 41 47 48 53 61 53 47 51 45 59 52 49 45 55 39\n",
      " 48 43 52 41 55 45 46 47 52 48 42 51 42 52 55 48 47 60 38 59 52 53 61 44\n",
      " 46 51 47 46 46 49 47 42 42 48 57 45 49 50 47 54 57 48 51 46 43 49 47 43\n",
      " 45 53 46 63 52 43 38 50 52 52 51 61 55 46 48 53 50 50 51 47 50 49 55 50\n",
      " 51 45 56 56 52 57 53 39 50 53 52 39 51 46 51 52 52 56 54 55 46 52 44 51\n",
      " 52 58 54 49 48 56 48 45 44 57 53 44 51 45 44 57 52 55 40 53 49 43 55 47\n",
      " 55 47 53 45 62 51 52 54 46 47 60 44 48 48 53 49 54 44 46 52 56 53 53 42\n",
      " 47 59 50 43 47 52 48 52 56 52 53 52 55 48 39 43 47 47 48 46 51 53 50 50\n",
      " 36 53 55 55 49 52 44 50 51 57 49 50 48 53 57 52]\n",
      "Minimum number of heads for 100 coinflips - 33\n",
      "Minimum number of heads for 100 coinflips - 67\n",
      "Mean number of heads for 100 coinflips - 50.004\n",
      "Standard Deviation of heads per 100 coinflips - 5.067739535532582\n"
     ]
    }
   ],
   "source": [
    "coinflip_binomial = rng.binomial(n=100,p=0.5,size=1000)\n",
    "print(\"What the output of the binomial function returns for distribution of 100 coinflips simulated 1000 times\\n\", coinflip_binomial)\n",
    "print(\"Minimum number of heads for 100 coinflips -\", min(coinflip_binomial))\n",
    "print(\"Minimum number of heads for 100 coinflips -\", max(coinflip_binomial))\n",
    "print(\"Mean number of heads for 100 coinflips -\", np.mean(coinflip_binomial))\n",
    "print(\"Standard Deviation of heads per 100 coinflips -\", np.std(coinflip_binomial))"
   ]
  },
  {
   "cell_type": "markdown",
   "metadata": {},
   "source": [
    "## Visualising the binomial distribution for coin flips\n",
    "From looking at seaborn documentation it appears that distplot is most appropriate way to visualise the binomial distribution as it combines both a histogram and [kernel density estimation](https://en.wikipedia.org/wiki/Kernel_density_estimation) into a single plot.\n",
    "https://seaborn.pydata.org/generated/seaborn.distplot.html"
   ]
  },
  {
   "cell_type": "code",
   "execution_count": 83,
   "metadata": {},
   "outputs": [
    {
     "name": "stderr",
     "output_type": "stream",
     "text": [
      "c:\\python38\\lib\\site-packages\\seaborn\\distributions.py:2551: FutureWarning: `distplot` is a deprecated function and will be removed in a future version. Please adapt your code to use either `displot` (a figure-level function with similar flexibility) or `histplot` (an axes-level function for histograms).\n",
      "  warnings.warn(msg, FutureWarning)\n"
     ]
    },
    {
     "data": {
      "image/png": "[encoded data removed]",
      "text/plain": [
       "<Figure size 432x288 with 1 Axes>"
      ]
     },
     "metadata": {
      "needs_background": "light"
     },
     "output_type": "display_data"
    }
   ],
   "source": [
    "import seaborn as sns\n",
    "sns.distplot(coinflip_binomial, color='orange').set_title('binomial distribution for 1000 games of 100 coinflips')\n",
    "plt.xlabel('Heads');"
   ]
  },
  {
   "cell_type": "markdown",
   "metadata": {},
   "source": [
    "We can see from the above distplot that the values do indeed center around 50 with values out towards 40 and 60 being less probable and beyond that very unlikely.\n",
    "If a larger dataset were to be generated where size argument was 10,000 instead of 1,000, then you would get a smoother distribution.\n",
    "\n",
    "### Saving Binomial Distribution as image"
   ]
  },
  {
   "cell_type": "code",
   "execution_count": 84,
   "metadata": {},
   "outputs": [
    {
     "data": {
      "image/png": "[encoded data removed]",
      "text/plain": [
       "<Figure size 432x288 with 1 Axes>"
      ]
     },
     "metadata": {
      "needs_background": "light"
     },
     "output_type": "display_data"
    }
   ],
   "source": [
    "'''\n",
    "This cell is what I did to get an image to use in the markdown text above, this proved an interesting enough exercise\n",
    "so I decided to leave it in it's own standalone cell.\n",
    "On the face of it, it was simple to do but as soon as I went about describing it I realised I needed to determine what the \n",
    "'''\n",
    "bin_steps=np.linspace(start=20,stop=80,num=13) #steps to use for bins I want steps of 5 between (and inclusive of) 20 to 80\n",
    "plt.tick_params(which='minor', length=5, color='black')\n",
    "plt.tick_params(which='minor', length=4, color='r')\n",
    "plt.hist(coinflip_binomial, weights=np.ones(len(coinflip_binomial))/len(coinflip_binomial), color='orange', bins=bin_steps) #in order to get y axis as percentage not sum of total occurences I have, this argument for weights\n",
    "plt.title('Fair Coin Flip Simulation')\n",
    "plt.ylabel('Probability')\n",
    "plt.xlabel('Flips')\n",
    "plt.xticks(bin_steps); #this one was surprisingly tricky as mostly guides show examples using subplot not plot, only myself to blame for sticking with plot - https://matplotlib.org/3.1.1/api/_as_gen/matplotlib.pyplot.tick_params.html\n",
    "#plt.savefig('images/binomial_example.png') #Uncomment this to save your own version"
   ]
  },
  {
   "cell_type": "code",
   "execution_count": 85,
   "metadata": {},
   "outputs": [
    {
     "name": "stderr",
     "output_type": "stream",
     "text": [
      "c:\\python38\\lib\\site-packages\\seaborn\\distributions.py:2551: FutureWarning: `distplot` is a deprecated function and will be removed in a future version. Please adapt your code to use either `displot` (a figure-level function with similar flexibility) or `histplot` (an axes-level function for histograms).\n",
      "  warnings.warn(msg, FutureWarning)\n"
     ]
    },
    {
     "data": {
      "image/png": "[encoded data removed]",
      "text/plain": [
       "<Figure size 432x288 with 1 Axes>"
      ]
     },
     "metadata": {
      "needs_background": "light"
     },
     "output_type": "display_data"
    }
   ],
   "source": [
    "coinflip_binomial = rng.binomial(n=100,p=0.5,size=10000)\n",
    "sns.distplot(coinflip_binomial, color='orange').set_title('binomial distribution for 1000 games of 100 coinflips')\n",
    "plt.xlabel('Heads');"
   ]
  },
  {
   "cell_type": "markdown",
   "metadata": {},
   "source": [
    "***\n",
    "### Tangent to the original task\n",
    "In the next cell I thought it would be interesting to show the binomial distribution of an unfair coin flip, where instead of it being p=0.5 for heads (or tails) I would instead specify p=0.75 to represent a coin that was weighted so as to return heads 75% of the time.\n",
    "\n",
    "By shifting the value for p, so to does the center of the distribution which makes sense, if we are doing 100 coin flips with 75% probability of getting heads then after 1000 repetitions of this we should see that on average we are mostly getting 75 heads.\n",
    "Similarly if we set p=1 we would get 100 heads for every single repetition as there's 100% chance of getting heads"
   ]
  },
  {
   "cell_type": "code",
   "execution_count": 86,
   "metadata": {},
   "outputs": [
    {
     "name": "stdout",
     "output_type": "stream",
     "text": [
      "Minimum number of heads for 100 coinflips - 60\n",
      "Minimum number of heads for 100 coinflips - 88\n"
     ]
    },
    {
     "name": "stderr",
     "output_type": "stream",
     "text": [
      "c:\\python38\\lib\\site-packages\\seaborn\\distributions.py:2551: FutureWarning: `distplot` is a deprecated function and will be removed in a future version. Please adapt your code to use either `displot` (a figure-level function with similar flexibility) or `histplot` (an axes-level function for histograms).\n",
      "  warnings.warn(msg, FutureWarning)\n"
     ]
    },
    {
     "data": {
      "image/png": "[encoded data removed]",
      "text/plain": [
       "<Figure size 432x288 with 1 Axes>"
      ]
     },
     "metadata": {
      "needs_background": "light"
     },
     "output_type": "display_data"
    }
   ],
   "source": [
    "#little tweak to the binomial distribution showing an uneven weighting for the coin\n",
    "unfair_coinflip_binomial = rng.binomial(n=100,p=0.75,size=1000)\n",
    "#print(\"What the output of the binomial function returns for distribution of 100 coinflips simulated 1000 times\\n\", unfair_coinflip_binomial)\n",
    "print(\"Minimum number of heads for 100 coinflips -\", min(unfair_coinflip_binomial))\n",
    "print(\"Minimum number of heads for 100 coinflips -\", max(unfair_coinflip_binomial))\n",
    "sns.distplot(unfair_coinflip_binomial, color='orange').set_title('binomial distribution for 1000 games of 100 coinflips')\n",
    "plt.xlabel('Heads');"
   ]
  },
  {
   "cell_type": "code",
   "execution_count": 87,
   "metadata": {},
   "outputs": [
    {
     "name": "stdout",
     "output_type": "stream",
     "text": [
      "Minimum number of heads for 100 coinflips - 95\n",
      "Minimum number of heads for 100 coinflips - 100\n"
     ]
    },
    {
     "name": "stderr",
     "output_type": "stream",
     "text": [
      "c:\\python38\\lib\\site-packages\\seaborn\\distributions.py:2551: FutureWarning: `distplot` is a deprecated function and will be removed in a future version. Please adapt your code to use either `displot` (a figure-level function with similar flexibility) or `histplot` (an axes-level function for histograms).\n",
      "  warnings.warn(msg, FutureWarning)\n"
     ]
    },
    {
     "data": {
      "image/png": "[encoded data removed]",
      "text/plain": [
       "<Figure size 432x288 with 1 Axes>"
      ]
     },
     "metadata": {
      "needs_background": "light"
     },
     "output_type": "display_data"
    }
   ],
   "source": [
    "#little tweak to the binomial distribution showing an uneven weighting for the coin\n",
    "reallyunfair_coinflip_binomial = rng.binomial(n=100,p=0.99,size=1000)\n",
    "print(\"Minimum number of heads for 100 coinflips -\", min(reallyunfair_coinflip_binomial))\n",
    "print(\"Minimum number of heads for 100 coinflips -\", max(reallyunfair_coinflip_binomial))\n",
    "sns.distplot(reallyunfair_coinflip_binomial, color='orange').set_title('binomial distribution for 1000 games of 100 coinflips')\n",
    "plt.xlabel('Heads');"
   ]
  },
  {
   "cell_type": "markdown",
   "metadata": {},
   "source": [
    "Interestingly when we give a really close to 1 value for p we get what multiple peaks for our Kernel Density Estimate, what I think is happening here is due to the proximity to 100 which is the max possible wins it removes what would be the right side of the distribution which would even it out."
   ]
  },
  {
   "cell_type": "markdown",
   "metadata": {},
   "source": [
    "***\n",
    "### Recreating the Binomial Distribution without using binomial function\n",
    "Based on the following line of the task brief I am attempting to recreate the binomial distribution using other numpy.random functions\n",
    "\n",
    "- <i>\"Write some python code that simulates flipping a coin 100 times.  Then run this code 1,000 times, keeping track of  the  number  of  heads  in  each  of  the  1,000  simulations.\"</i>\n",
    "\n",
    "To do so I use numpy.random.choice to recreate the 100 coin flips and will then loop through that 1000 times to simulate 1000 games of 100 coin flips while keeping track of the total heads for each game.\n",
    "https://numpy.org/doc/stable/reference/random/generated/numpy.random.Generator.choice.html\n",
    "\n",
    "Alternately I could use np.random.integers to represent 1/0 for head/tails but I like the idea that with choice we can explicitly state the probability for each option. \n",
    "\n",
    "I could also use a list of ['Heads','Tails'] similarly but that would then make summing the total heads more involved."
   ]
  },
  {
   "cell_type": "code",
   "execution_count": 65,
   "metadata": {},
   "outputs": [
    {
     "name": "stdout",
     "output_type": "stream",
     "text": [
      "1\n"
     ]
    }
   ],
   "source": [
    "coinface_list = [1,0] #here 1 is representing heads and 0 represents tails\n",
    "coinflip_choice = rng.choice(a=coinface_list,p=[0.5,0.5]) #p=[0.5,0.5] as need to supply the probabilities for both 1 and 0 for argument a\n",
    "print(coinflip_choice)"
   ]
  },
  {
   "cell_type": "markdown",
   "metadata": {},
   "source": [
    "Summing an array - https://numpy.org/doc/stable/reference/generated/numpy.sum.html"
   ]
  },
  {
   "cell_type": "code",
   "execution_count": 66,
   "metadata": {},
   "outputs": [
    {
     "name": "stdout",
     "output_type": "stream",
     "text": [
      "50\n"
     ]
    }
   ],
   "source": [
    "coinflip_choice = rng.choice(a=coinface_list,p=[0.5,0.5], size=100) #size=100 as want to get an array returned representing 100 coinflips\n",
    "heads = sum(coinflip_choice) #as we have 1's representing heads and 0's representing tails can get the total heads by simply summing the array\n",
    "print(heads)"
   ]
  },
  {
   "cell_type": "code",
   "execution_count": 69,
   "metadata": {},
   "outputs": [],
   "source": [
    "heads_list = [] #declare empty list to be appended to\n",
    "for i in range(1000):\n",
    "    coinflip_choice = rng.choice(a=coinface_list,p=[0.5,0.5], size=100) #per loop get 100 results \n",
    "    heads = sum(coinflip_choice) #get sum of current total heads\n",
    "    heads_list.append(heads) #append to heads list"
   ]
  },
  {
   "cell_type": "code",
   "execution_count": 72,
   "metadata": {},
   "outputs": [
    {
     "name": "stderr",
     "output_type": "stream",
     "text": [
      "c:\\python38\\lib\\site-packages\\seaborn\\distributions.py:2551: FutureWarning: `distplot` is a deprecated function and will be removed in a future version. Please adapt your code to use either `displot` (a figure-level function with similar flexibility) or `histplot` (an axes-level function for histograms).\n",
      "  warnings.warn(msg, FutureWarning)\n"
     ]
    },
    {
     "data": {
      "image/png": "[encoded data removed]",
      "text/plain": [
       "<Figure size 432x288 with 1 Axes>"
      ]
     },
     "metadata": {
      "needs_background": "light"
     },
     "output_type": "display_data"
    }
   ],
   "source": [
    "sns.distplot(heads_list, color='orange')\n",
    "plt.title('Number of heads over 100 coinflips, repeated 1000 times')\n",
    "plt.xlabel('Heads');"
   ]
  },
  {
   "cell_type": "markdown",
   "metadata": {},
   "source": [
    "## Task 3 Summary and Conclusion\n",
    "\n",
    "With this task I took two different approaches to generate a distribution for coinflips, first I generated the 1000 repeats of 100 coinflips using the numpy binomial function and second using numpy's choice function within a for loop.\n",
    "\n",
    "While the binomial distribution option is by far the more simple and direct version it was interesting exploring how to reproduce it without using the binomial function explicitly.\n",
    "\n",
    "I took a tangent to the task to see what unfair coin flips would look like where the probabilities aren't equal.\n",
    "\n",
    "Finally I also used the seaborn libraries distplot function to visualise both a histogram and a kernel density estimate line to show the distribution."
   ]
  },
  {
   "cell_type": "markdown",
   "metadata": {},
   "source": [
    "***\n",
    "# Task 4\n",
    "## Simpson's Paradox\n",
    "\n",
    "The objective for this task is to demonstrate the Simpson's Paradox.\n",
    "\n",
    "The Simpson's Paradox is a phenomenon in probability and statistics where a general trend that can be seen across various groups when viewed independently is reversed when they are grouped together, Simpson's Paradox highlights how misleading statistics can be when presented without being properly considered what's being shown.\n",
    "\n",
    "A simple example of this would be to imagine some figures are being published based on crime rates across different demographics, when viewed independently by their demographic group the trend may show a decline in crime rate, however if someone naievly (or as is often the case if the outlet reporting this has an agenda and does so maliciously) groups all this data together it would show a trend upwards, suggesting crime rates are increasing."
   ]
  },
  {
   "cell_type": "code",
   "execution_count": null,
   "metadata": {},
   "outputs": [],
   "source": [
    "#x1 goes from 0 to 10 in 10 steps\n",
    "x1 = np.linspace(1,10, 10)\n",
    "y1 = 4*x1+20\n",
    "#x2 goes from 5 to 15 in 10 steps\n",
    "x2 = np.linspace(5,15,10)\n",
    "y2 = 1*x2"
   ]
  },
  {
   "cell_type": "code",
   "execution_count": null,
   "metadata": {},
   "outputs": [],
   "source": [
    "#in an effort to create a single combined dataset in order to show the line of fit for x1 and x2 and y1 and y2\n",
    "x1x2 = np.concatenate((x1,x2), axis=None) #x1x2 gives array of x2 concatenated on top of x1\n",
    "y1y2 = np.concatenate((y1,y2), axis=None)"
   ]
  },
  {
   "cell_type": "code",
   "execution_count": null,
   "metadata": {},
   "outputs": [],
   "source": [
    "plt.scatter(x1,y1, color='r')\n",
    "plt.scatter(x2,y2, color='g')\n",
    "m,c = np.polyfit(x1x2,y1y2,1) #as shown by Ian in video on 'Fitting Lines'\n",
    "plt.plot(np.unique(x1x2), m*np.unique(x1x2)+c);"
   ]
  },
  {
   "cell_type": "markdown",
   "metadata": {},
   "source": [
    "With the simple example above we have an illustration of the simpsons paradox, whereby two datasets each show a clear upward linear trend. However when line of fit is acquired for both datasets together it shows a downward linear trend\n",
    "\n",
    "### Adding some randomness to the data"
   ]
  },
  {
   "cell_type": "code",
   "execution_count": null,
   "metadata": {},
   "outputs": [],
   "source": [
    "#introducing some randomness to the line's so they are no longer perfectly linear\n",
    "rng = np.random.default_rng() #first declare a random num generator\n",
    "x3 = np.linspace(1,10,100)\n",
    "y3 = 5*x3+40+rng.normal(0.0,3,len(x3))\n",
    "m3,c3 = np.polyfit(x3,y3,1)\n",
    "\n",
    "x4 = np.linspace(10, 20, 100)\n",
    "y4 = 5*x4-50+rng.normal(0.0,5,len(x4))\n",
    "\n",
    "m4,c4 = np.polyfit(x4,y4, 1)\n",
    "\n",
    "#in an effort to create a single combined dataset in order to show the line of fit for x1 and x2 and y1 and y2\n",
    "x3x4 = np.concatenate((x3,x4), axis=None)\n",
    "y3y4 = np.concatenate((y3,y4), axis=None)\n",
    "\n",
    "comb_m, comb_c = np.polyfit(x3x4,y3y4,1)"
   ]
  },
  {
   "cell_type": "code",
   "execution_count": null,
   "metadata": {},
   "outputs": [],
   "source": [
    "plt.figure(figsize=(10,6))\n",
    "plt.plot(np.unique(x3), m3*np.unique(x3)+c3, 'orange', linewidth=2) #want the line underneath the transparent dot's\n",
    "plt.scatter(x3,y3, marker='o', alpha=0.75, label='x3 and y3') #set the scatter dots to be slightly transparent\n",
    "plt.scatter(x4,y4, label='x4 and y4')\n",
    "plt.plot(np.unique(x4), m4*np.unique(x4)+c4, 'green', linewidth=2) #want the line underneath the transparent dot's\n",
    "plt.plot(np.unique(x3x4), comb_m*np.unique(x3x4)+comb_c, color='black', label='Simpsons Paradox Line')\n",
    "plt.legend()\n",
    "plt.title('x3 and x4 vs. y3 and y4')"
   ]
  },
  {
   "cell_type": "markdown",
   "metadata": {},
   "source": [
    "By doing the previous example I can now see a general feel for how to generate complimentary datasets that will show the Simpson's Paradox, and that is when you have a fairly consistent slope (m) by increasing the intercept (b) fairly significantly it leads to a downwards trend when grouping the two together.\n",
    "\n",
    "## Demonstrating Simpson's Paradox with 4 datasets on single trend"
   ]
  },
  {
   "cell_type": "code",
   "execution_count": null,
   "metadata": {},
   "outputs": [],
   "source": [
    "x1 = np.linspace(1,10,100)\n",
    "y1 = -5*x1+50+rng.normal(0.0,3,len(x1))\n",
    "m1,c1 = np.polyfit(x1,y1,1)\n",
    "\n",
    "x2 = np.linspace(1, 20, 100)\n",
    "y2 = -5*x2+100+rng.normal(0.0,5,len(x2))\n",
    "m2,c2 = np.polyfit(x2,y2, 1)\n",
    "\n",
    "x3 = np.linspace(5,30,100)\n",
    "y3 = -5*x3+200+rng.normal(0.0,3,len(x3))\n",
    "m3,c3 = np.polyfit(x3,y3,1)\n",
    "\n",
    "x4 = np.linspace(20, 40, 100)\n",
    "y4 = -5*x4+300+rng.normal(0.0,5,len(x4))\n",
    "m4,c4 = np.polyfit(x4,y4, 1)\n",
    "\n",
    "#in an effort to create a single combined dataset in order to show the line of fit for x1 and x2 and y1 and y2\n",
    "x_all = np.concatenate((x1,x2,x3,x4), axis=None)\n",
    "y_all = np.concatenate((y1,y2,y3,y4), axis=None)\n",
    "m_all,c_all = np.polyfit(x_all,y_all, 1)\n",
    "#comb_a, comb_b = np.polyfit(x3x4,y3y4,1)\n",
    "plt.figure(figsize=(10,6))\n",
    "plt.plot(np.unique(x1), m1*np.unique(x1)+c1, 'orange', linewidth=2) #want the line underneath the transparent dot's\n",
    "plt.scatter(x1,y1, marker='o', alpha=0.75, label='x1 and y1') #set the scatter dots to be slightly transparent\n",
    "plt.scatter(x2,y2, label='x2 and y2')\n",
    "plt.plot(np.unique(x2), m2*np.unique(x2)+c2, 'green', linewidth=2) #want the line underneath the transparent dot's\n",
    "#plt.plot(np.unique(x3x4), comb_a*np.unique(x3x4)+comb_b, color='black', label='Simpsons Paradox Line')\n",
    "plt.plot(np.unique(x3), m3*np.unique(x3)+c3, 'purple', linewidth=2) #want the line underneath the transparent dot's\n",
    "plt.scatter(x3,y3, marker='o', alpha=0.75, label='x3 and y3') #set the scatter dots to be slightly transparent\n",
    "plt.scatter(x4,y4, label='x4 and y4')\n",
    "plt.plot(np.unique(x4), m4*np.unique(x4)+c4, 'green', linewidth=2) #want the line underneath the transparent dot's\n",
    "plt.plot(np.unique(x_all), m_all*np.unique(x_all)+c_all, color='black', label='Simpsons Paradox Line')\n",
    "plt.legend()\n",
    "plt.title('x1,x2,x3,x4 vs. y1,y2,y3,y4');\n"
   ]
  },
  {
   "cell_type": "markdown",
   "metadata": {},
   "source": [
    "## Task 4 Summary and Conclusion\n",
    "\n",
    "With this task I have tried to demonstrate the Simpson's paradox where established trends in groups of data are shown to be reversed when viewing groups together. \n",
    "\n",
    "To do so I generated groupings of data (x1,y1 and x2,y2 etc.)\n",
    "to show linear relationships among their groups and used numpy.polyfit to generate a line of fit for each group.\n",
    "Then to combine the different groups together I simply concatenated them one on top of another and again used numpy.polyfit on the concatenated dataset.\n",
    "\n",
    "The datasets were plotted using matplotlib.pyplot library and functions in particular were scatter for showing the individual data points and plot for showing the lines of fit."
   ]
  },
  {
   "cell_type": "code",
   "execution_count": null,
   "metadata": {},
   "outputs": [],
   "source": []
  },
  {
   "cell_type": "code",
   "execution_count": null,
   "metadata": {},
   "outputs": [],
   "source": []
  }
 ],
 "metadata": {
  "kernelspec": {
   "display_name": "Python 3",
   "language": "python",
   "name": "python3"
  },
  "language_info": {
   "codemirror_mode": {
    "name": "ipython",
    "version": 3
   },
   "file_extension": ".py",
   "mimetype": "text/x-python",
   "name": "python",
   "nbconvert_exporter": "python",
   "pygments_lexer": "ipython3",
   "version": "3.8.5"
  }
 },
 "nbformat": 4,
 "nbformat_minor": 4
}
