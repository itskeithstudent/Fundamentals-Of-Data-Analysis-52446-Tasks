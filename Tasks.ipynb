{
 "cells": [
  {
   "cell_type": "markdown",
   "metadata": {},
   "source": [
    "# TASKS\n",
    "This notebook is for solutions to the various task assignments part of the Fundamentals of Data Analysis Module at GMIT.\n",
    "\n",
    "The author is me, Keith Ryan (g00387816@gmit.ie)."
   ]
  },
  {
   "cell_type": "markdown",
   "metadata": {},
   "source": [
    "## Task 1 Brief - Write a Python function called Counts\n",
    "This function takes a list as input and returns a dictionary of unique items in the list as keys and the number of times each item appears as values.  So, the input ['A','A','B','C','A'] should have output {'A': 3,'B': 1,'C': 1}.\n",
    "\n",
    "Your code should not depend on any module from the standard library or otherwise. You should research the task first and include a description with references of your algorithm in the notebook."
   ]
  },
  {
   "cell_type": "markdown",
   "metadata": {},
   "source": [
    "## Research and thoughts on the problem\n",
    "At face value to count the number of occurences of each value in a list will first need to loop through every item in list. As it loops through item by item check has this item already been seen, if so increment some counter by 1, if not set a count of 1 for the current item.\n",
    "Making this more pythonic, we will need a list as an input, a dict to store the items of the list (key) a count of the number of occurences of that specific item (value) and the input list will be iterated through using a for loop.\n",
    "The list and for loop are pretty self-explanatory but how to add items to a dictionary and check if one has already been added is the more involved part."
   ]
  },
  {
   "cell_type": "code",
   "execution_count": 3,
   "metadata": {},
   "outputs": [
    {
     "name": "stdout",
     "output_type": "stream",
     "text": [
      "<class 'dict'>\n",
      "Printing the entire dict - {'a': 1}\n",
      "Printing the dict's key-value - 1\n"
     ]
    }
   ],
   "source": [
    "#creating a dict object and assigning a value to a key\n",
    "#dictionaries operate as a key-pair or key-value, where when you supply a key to a dict object it \n",
    "# returns the corresponding value\n",
    "test_dict = {}\n",
    "print(type(test_dict))\n",
    "test_dict['a'] = 1\n",
    "print(f\"Printing the entire dict - {test_dict}\")\n",
    "print(f\"Printing the dict's key-value - {test_dict['a']}\")"
   ]
  },
  {
   "cell_type": "markdown",
   "metadata": {},
   "source": [
    "For checking whether key exists dict.get() seems like best approach. - [dict.get() documentation](https://docs.python.org/3/library/stdtypes.html?highlight=#dict.get)\n",
    "\n",
    "The next cell is testing this idea out in a for loop and then turning that bit of logic into a function.\n"
   ]
  },
  {
   "cell_type": "code",
   "execution_count": 4,
   "metadata": {},
   "outputs": [
    {
     "name": "stdout",
     "output_type": "stream",
     "text": [
      "A B X Y X A A \n",
      "{'A': 3, 'B': 1, 'X': 2, 'Y': 1}\n"
     ]
    }
   ],
   "source": [
    "#first I need a list to test with\n",
    "test_list = ['A', 'B', 'X', 'Y', 'X', 'A', 'A']\n",
    "#next I will need a dictionary for storing the key-value pairs\n",
    "test_dict = {}\n",
    "\n",
    "#simple for loop to iterate through the list\n",
    "for i in test_list:\n",
    "    print(i, end=' ')\n",
    "    #second arg for .get is 0, .get returns this value should the key not exist\n",
    "    test_dict[i] = test_dict.get(i,0) + 1\n",
    "    '''\n",
    "    Older solution, can be done in single line instead taking advantage of get return value if nothing found\n",
    "    if test_dict.get(i, False) == False:\n",
    "        test_dict[i] = 1 #add key and set value to one\n",
    "    else: \n",
    "        test_dict[i] += 1 #increment key value\n",
    "        \n",
    "    '''\n",
    "print() #introduce a new line between previous print and next print\n",
    "print(test_dict)"
   ]
  },
  {
   "cell_type": "markdown",
   "metadata": {},
   "source": [
    "## Taking tested solution and enclosing with function"
   ]
  },
  {
   "cell_type": "code",
   "execution_count": 5,
   "metadata": {},
   "outputs": [],
   "source": [
    "\n",
    "def list_to_dict(input_list):\n",
    "    #initialise blank dict\n",
    "    output_dict = {}\n",
    "    #loop through provided list\n",
    "    for item in input_list:\n",
    "        #taking advantage of dict.get return, if item not found in dict return 0 then add 1\n",
    "        output_dict[item] = output_dict.get(item, 0) + 1\n",
    "    \n",
    "    return output_dict #return the dictionary"
   ]
  },
  {
   "cell_type": "code",
   "execution_count": 6,
   "metadata": {},
   "outputs": [
    {
     "name": "stdout",
     "output_type": "stream",
     "text": [
      "Provided list - ['A', 'B', 'X', 'Y', 'X', 'A', 'A']\n",
      "Count of items in list - {'A': 3, 'B': 1, 'X': 2, 'Y': 1}\n"
     ]
    }
   ],
   "source": [
    "print(f\"Provided list - {test_list}\")\n",
    "returned_dict = list_to_dict(test_list) #store the result from function call in variable my_dict, then print it\n",
    "print(f\"Count of items in list - {returned_dict}\")"
   ]
  },
  {
   "cell_type": "markdown",
   "metadata": {},
   "source": [
    "## Alternate way of getting same count\n",
    "Instead of using dict.get to verify whether key already exists or not, it's simpler to just use list.count() to return a count of the specified item within the list. - [see list.count() in python3 datastructures documentation](https://docs.python.org/3/tutorial/datastructures.html)\n",
    "\n",
    "Interestingly the count function likewise works for tuples."
   ]
  },
  {
   "cell_type": "code",
   "execution_count": 7,
   "metadata": {},
   "outputs": [
    {
     "name": "stdout",
     "output_type": "stream",
     "text": [
      "{'A', 'B', 'X', 'Y'}\n",
      "{'A': 3, 'B': 1, 'X': 2, 'Y': 1}\n"
     ]
    }
   ],
   "source": [
    "#initially did this without a set, but can make it more efficient if using a set to first convert the list to just it's unique items\n",
    "#in practice this will probably not generally be an issue, but in cases of massive lists, would probably be a very efficient approach\n",
    "unique_items_set = set(test_list) \n",
    "print(unique_items_set)\n",
    "my_dict = {}\n",
    "for i in unique_items_set:\n",
    "    my_dict[i] = test_list.count(i)\n",
    "print(my_dict)"
   ]
  },
  {
   "cell_type": "code",
   "execution_count": 8,
   "metadata": {},
   "outputs": [],
   "source": [
    "def list_count_to_dict(input_list):\n",
    "    #convert list into set to get unique values of the list\n",
    "    input_set = set(input_list)\n",
    "    #initialise blank dictionary\n",
    "    output_dict = {}\n",
    "    #iterate through each item in set (e.g. each unique value from input_list)\n",
    "    for item in input_set:\n",
    "        output_dict[item] = input_list.count(item) #output_dict keys are equal to the count of that item from the list\n",
    "        \n",
    "    return output_dict"
   ]
  },
  {
   "cell_type": "code",
   "execution_count": 9,
   "metadata": {},
   "outputs": [
    {
     "name": "stdout",
     "output_type": "stream",
     "text": [
      "Provided list - ['A', 'B', 'X', 'Y', 'X', 'A', 'A']\n",
      "Count of items in list - {'A': 3, 'B': 1, 'X': 2, 'Y': 1}\n"
     ]
    }
   ],
   "source": [
    "#Returns the counted dict object\n",
    "print(f\"Provided list - {test_list}\")\n",
    "returned_dict = list_count_to_dict(test_list)\n",
    "print(f\"Count of items in list - {returned_dict}\")"
   ]
  },
  {
   "cell_type": "code",
   "execution_count": 10,
   "metadata": {},
   "outputs": [
    {
     "name": "stdout",
     "output_type": "stream",
     "text": [
      "664 ns ± 5.62 ns per loop (mean ± std. dev. of 7 runs, 1000000 loops each)\n"
     ]
    }
   ],
   "source": [
    "%%timeit\n",
    "list_to_dict(test_list)"
   ]
  },
  {
   "cell_type": "code",
   "execution_count": 11,
   "metadata": {},
   "outputs": [
    {
     "name": "stdout",
     "output_type": "stream",
     "text": [
      "869 ns ± 24.6 ns per loop (mean ± std. dev. of 7 runs, 1000000 loops each)\n"
     ]
    }
   ],
   "source": [
    "%%timeit\n",
    "list_count_to_dict(test_list)"
   ]
  },
  {
   "cell_type": "markdown",
   "metadata": {},
   "source": [
    "# Summary and Conclusion of Task 1\n",
    "I found 2 different ways of getting the number of times an item appears in a list.\n",
    "The first was the more obvious solution to me, knowing that as we iterate through a list we can simply add to the dictionary and increment as we go but also accounting for when the item does not already exist in the dictionary.\n",
    "\n",
    "- First was simply to iterate through the list, checking whether the item was already present in the dictionary object, if it was not present add the item to the dictionary and set its value to 1, if it is present increment its value by 1\n",
    "- Alternative solution is to create a set out of the given list to get all of the unique values, then iterating through the set add each item to the dictionary object and set its value equal to the count of that item from the list. This solution has a quirk by changing the order the list items appear in, so if the order of items appearing in the list were to matter this would not work as a solution.\n",
    "\n",
    "In practice I would gravitate more towards the second function which uses a Set to get just the unique items in the list and then iterating through the Set assign each item as a key in the dictionary and put its value as the count of that item from the list - the advantage of this appraoch is you are not looping through for every item in a list, instead you loop through each unique item in the list by taking advantage of how Sets work and inbuilt list functions.\n",
    "***\n"
   ]
  },
  {
   "cell_type": "markdown",
   "metadata": {},
   "source": [
    "# Task 2 Brief - Write a Python function called dicerolls\n",
    "The task this time is to create a function that simulates rolling dice, it should take two parameters, the number of dice and the number of times to roll them. The function will simulate random rolls of the dice and keep track of the total number of occurences of the sum of the dice rolls.\n",
    "\n",
    "After the function has finished it returns a dictionary object holding the number of occurrences the different dice face totals occurred.\n",
    "\n",
    "`{2:19,3:50,4:82,5:112,6:135,7:174,8:133,9:114,10:75,11:70,12:36}`"
   ]
  },
  {
   "cell_type": "code",
   "execution_count": 12,
   "metadata": {},
   "outputs": [
    {
     "name": "stdout",
     "output_type": "stream",
     "text": [
      "Number of dice selected 2 to roll 1000 times\n",
      "Minimum face total = 2\n",
      "Maximum face total = 12\n",
      "Number of dice selected 4 to roll 10 times\n",
      "Minimum face total = 4\n",
      "Maximum face total = 24\n"
     ]
    }
   ],
   "source": [
    "#With this function I want to show what kind of size of dictionary will eventually be returned by the dicerolls function\n",
    "#the more dice you add, the more face totals there will be\n",
    "def exploring_dicerolls(n_dice, n_rolls):\n",
    "    print(f\"Number of dice selected {n_dice} to roll {n_rolls} times\")\n",
    "    print(f\"Minimum face total = {n_dice}\")\n",
    "    print(f\"Maximum face total = {n_dice*6}\")\n",
    "    \n",
    "#try different numbers of dice to show min and max face totals\n",
    "exploring_dicerolls(2,1000)\n",
    "exploring_dicerolls(4,10)"
   ]
  },
  {
   "cell_type": "markdown",
   "metadata": {},
   "source": [
    "## Research and attempts\n",
    "***\n",
    "Exploring the task in earnest now, I can see that we will need to use a library to produce random numbers, unfortunately given the task brief I can only make use of the Standard Python Library, which in this case rules out numpy.random.\n",
    "\n",
    "Handily though the Standard Python Library does have a package that should do exactly what is needed for the dice rolls https://docs.python.org/3/library/random.html\n",
    "\n",
    "Specifically the module random.randint is relevant here as I only want to return an integer value and want to specify 2 numbers as the limits.\n",
    "\n",
    "Initially I thought of a shortcut, where instead of doing individual dice rolls I could instead just get a random number between the min and max of the face totals of the dice rolled, however in practice I saw the issue with this pretty quickly and have imported matplotlib below to illustrate."
   ]
  },
  {
   "cell_type": "code",
   "execution_count": 13,
   "metadata": {},
   "outputs": [
    {
     "data": {
      "image/png": "[encoded data removed]",
      "text/plain": [
       "<Figure size 432x288 with 1 Axes>"
      ]
     },
     "metadata": {
      "needs_background": "light"
     },
     "output_type": "display_data"
    }
   ],
   "source": [
    "import random\n",
    "import matplotlib.pyplot as plt\n",
    "\n",
    "n_dice = 2\n",
    "n_rolls = 100000\n",
    "my_list = []\n",
    "for i in range(n_rolls):\n",
    "    my_list.append(random.randint(n_dice, n_dice*6))\n",
    "plt.hist(my_list);"
   ]
  },
  {
   "cell_type": "markdown",
   "metadata": {},
   "source": [
    "The above histogram plot was very surprising, I expected to see a uniform (practically flat) distribution but instead see a peak around 12.\n",
    "\n",
    "After a bit of playing around with the histogram plot I realised it was down to the number of bins used, as you can see above the last bar around 12 is about twice the height of all the other bars so the bar at 12 is actually covering 11 and 12, see corrected histogram plot below."
   ]
  },
  {
   "cell_type": "code",
   "execution_count": 14,
   "metadata": {},
   "outputs": [
    {
     "data": {
      "image/png": "[encoded data removed]",
      "text/plain": [
       "<Figure size 432x288 with 1 Axes>"
      ]
     },
     "metadata": {
      "needs_background": "light"
     },
     "output_type": "display_data"
    }
   ],
   "source": [
    "# want the number of bins to be 1 greater than the max minus the min \n",
    "# as we want our bins to be inclusive of every point on the range.\n",
    "num_bins = ((n_dice*6) - n_dice) + 1 \n",
    "plt.hist(my_list, bins=num_bins);"
   ]
  },
  {
   "cell_type": "markdown",
   "metadata": {},
   "source": [
    "The issue with the above is that it is not representative of what we would expect to see when rolling dice, when rolling dice (and as illustrated with example Ian provided in the Assignment) we should see a normal distribution, where values to the min and max of the range appear less frequently than those in the middle.\n",
    "\n",
    "If we rolled two dice a number of times, values like 2 and 12 occur less frequently than more central values like and the reason for this is very simple. You can only get 2 and 12 by rolling 1, 1 and 6, 6 respectively, but for other values like say 5, can instead be made up by a number of potential dice rolls (5 could be rolled with a combination of a 1 and 4, 2 and 3 and those combinations in reverse too as the order they occured could change).\n",
    "\n",
    "So for 2 and 12 there is only 1 scenario where we can get either face total, but for 5 we have 4 possible scenarios, therefore 5 is more likely to be seen more frequently.\n",
    "\n",
    "What this means for the function is we need to do independent dice rolls, e.g. a random number between 1 and 6 2 times as opposed to a random number between 2 and 12."
   ]
  },
  {
   "cell_type": "code",
   "execution_count": 15,
   "metadata": {},
   "outputs": [
    {
     "data": {
      "image/png": "[encoded data removed]",
      "text/plain": [
       "<Figure size 432x288 with 1 Axes>"
      ]
     },
     "metadata": {
      "needs_background": "light"
     },
     "output_type": "display_data"
    }
   ],
   "source": [
    "#keeping same structure as before\n",
    "n_dice = 2\n",
    "n_rolls = 100000\n",
    "my_list = []\n",
    "#but changing how the for loop works\n",
    "for i in range(n_rolls):\n",
    "    face_total = 0\n",
    "    for j in range(n_dice):\n",
    "        face_total += random.randint(1,6)\n",
    "    \n",
    "    my_list.append(face_total)\n",
    "plt.hist(my_list, bins=num_bins);"
   ]
  },
  {
   "cell_type": "markdown",
   "metadata": {},
   "source": [
    "The above histogram plot looks much more like what I initially expected to see for the dice rolls."
   ]
  },
  {
   "cell_type": "code",
   "execution_count": 16,
   "metadata": {},
   "outputs": [
    {
     "name": "stdout",
     "output_type": "stream",
     "text": [
      "{2: 2669, 3: 5466, 4: 8377, 5: 11257, 6: 14163, 7: 16565, 8: 13848, 9: 11108, 10: 8276, 11: 5431, 12: 2840}\n"
     ]
    }
   ],
   "source": [
    "my_dict = list_count_to_dict(my_list) #using the previous function from Task 1 to count the list\n",
    "print(my_dict)"
   ]
  },
  {
   "cell_type": "markdown",
   "metadata": {},
   "source": [
    "***\n",
    "## Function - diceRolls\n",
    "***\n",
    "From the last few cells I think I now have a pretty good way of getting the face totals and their count into a dictionary, so now to convert that into a function that takes inputs"
   ]
  },
  {
   "cell_type": "code",
   "execution_count": 17,
   "metadata": {},
   "outputs": [],
   "source": [
    "def diceRolls(n_dice, n_rolls):\n",
    "    face_total_list = []\n",
    "    #loop by number of rolls\n",
    "    for i in range(n_rolls):\n",
    "        face_total = 0 #set face_total to 0 on every new roll\n",
    "        for j in range(n_dice): #for every dice to be rolled n_dice \n",
    "            face_total += random.randint(1,6) #pick a random number from 1 to 6 and add it to face_total\n",
    "        face_total_list.append(face_total) #after finishing loop to tally face_total, continue roll loop\n",
    "    \n",
    "    #finally return a dictionary object in the format {face total : number of occurence} using solution from first task\n",
    "    return list_count_to_dict(face_total_list)\n",
    "    "
   ]
  },
  {
   "cell_type": "code",
   "execution_count": 18,
   "metadata": {},
   "outputs": [
    {
     "name": "stdout",
     "output_type": "stream",
     "text": [
      "{1: 152, 2: 168, 3: 175, 4: 155, 5: 177, 6: 173}\n",
      "{341: 1}\n",
      "{16: 1, 17: 5, 18: 1, 19: 3, 20: 15, 21: 30, 22: 41, 23: 53, 24: 94, 25: 144, 26: 184, 27: 252, 28: 332, 29: 414, 30: 496, 31: 559, 32: 605, 33: 695, 34: 682, 35: 754, 36: 690, 37: 674, 38: 592, 39: 604, 40: 512, 41: 394, 42: 304, 43: 269, 44: 193, 45: 145, 46: 96, 47: 72, 48: 46, 49: 19, 50: 17, 51: 5, 52: 4, 53: 2, 54: 2}\n"
     ]
    }
   ],
   "source": [
    "print(diceRolls(1,1000))\n",
    "print(diceRolls(100,1))\n",
    "print(diceRolls(10, 10000))"
   ]
  },
  {
   "cell_type": "markdown",
   "metadata": {},
   "source": [
    "***\n",
    "# Task 3\n",
    "## Distribution of coin flips\n",
    "\n",
    "The third task is to simulate coin flips, specifically it is to simulate the number of heads occurring after 100 coin flips and then simulate that 1000 times, visualising the resulting list/array of 1000 numbers (this is assuming that the coin is fair, so either heads or tails is equally likely)."
   ]
  },
  {
   "cell_type": "code",
   "execution_count": 3,
   "metadata": {},
   "outputs": [
    {
     "name": "stdout",
     "output_type": "stream",
     "text": [
      "quick test of random number generator - 3\n"
     ]
    }
   ],
   "source": [
    "import numpy as np\n",
    "rng = np.random.default_rng() #using a default_rng object instead of numpy.random functions directly https://numpy.org/doc/stable/reference/random/generator.html\n",
    "print(\"quick test of random number generator -\", rng.integers(10))"
   ]
  },
  {
   "cell_type": "markdown",
   "metadata": {},
   "source": [
    "From the numpy.random documentation the binomial distribution function takes 3 arguments, n for number of trials, p for probability and size for the size of the array to return.\n",
    "\n",
    "https://numpy.org/doc/stable/reference/random/generated/numpy.random.Generator.binomial.html#numpy.random.Generator.binomial\n",
    "\n",
    "From the task definition from Ian, we know that our size (n) is 100 as we want to flip a coin 100 times and observe the result, secondly we know that our probability (p) is 0.5 as there's a 50% chance for either heads or tails and lastly or size is 1000 as we are simulating this 1000 times overall.\n",
    "\n",
    "In the case of this example whether we are counting the occurrences of heads or tails with the distribution is subjective (as either event is just as likely), in fact with the binomial function we are not explicitly asking it to tell us the number of occurences of heads, instead what we are asking of the function is to show us the number of occurrences for an event with a 50% chance of happening, happens over 100 tries and then repeating that 1000 times.\n",
    "\n",
    "This then gives us our distribution showing the total number of 'wins' or 'heads' that occurred for each set of 100 tries over the 1000 repeats."
   ]
  },
  {
   "cell_type": "code",
   "execution_count": 37,
   "metadata": {},
   "outputs": [
    {
     "name": "stdout",
     "output_type": "stream",
     "text": [
      "What the output of the binomial function returns for distribution of 100 coinflips simulated 1000 times\n",
      " [54 51 53 59 48 48 46 47 56 45 55 53 49 42 51 48 44 47 51 54 51 55 53 47\n",
      " 45 45 46 44 42 48 54 48 54 59 48 44 42 40 45 37 49 55 51 43 44 50 48 53\n",
      " 51 50 38 43 48 40 51 51 55 54 53 42 57 48 43 46 48 48 48 46 48 50 43 57\n",
      " 41 47 43 42 49 60 44 50 51 50 47 49 55 52 50 51 48 55 56 56 53 40 47 53\n",
      " 57 55 51 56 47 48 47 50 43 52 53 48 47 54 58 56 50 52 38 64 50 47 45 54\n",
      " 49 47 53 55 46 53 52 49 52 40 51 51 51 44 49 54 49 47 38 46 54 48 52 49\n",
      " 52 48 49 53 45 47 47 56 50 49 50 61 57 43 43 54 53 41 47 49 52 52 48 55\n",
      " 48 51 51 47 45 56 57 43 53 57 57 59 48 60 49 42 50 49 54 56 45 61 53 55\n",
      " 44 54 43 61 51 49 52 47 52 35 56 61 46 40 62 51 55 45 51 56 58 48 43 62\n",
      " 46 48 57 45 50 48 42 58 53 49 53 49 50 40 53 47 49 49 63 55 43 56 57 58\n",
      " 52 42 50 58 51 55 56 47 50 56 53 41 62 48 56 44 57 60 50 54 51 53 48 41\n",
      " 45 48 49 51 47 52 53 49 60 45 50 47 55 47 51 51 43 49 56 56 58 57 52 41\n",
      " 51 56 60 44 40 46 44 48 53 48 55 50 43 35 53 52 49 41 45 48 44 53 50 50\n",
      " 56 56 49 55 57 52 46 57 57 54 50 44 53 50 51 54 57 44 44 49 51 43 49 55\n",
      " 45 47 53 54 48 56 50 42 45 47 53 44 47 45 50 42 42 46 46 36 50 51 57 53\n",
      " 50 48 59 52 47 57 45 47 47 55 48 42 57 44 46 54 47 52 53 48 44 44 45 53\n",
      " 50 57 41 39 60 50 46 55 51 46 55 41 45 49 47 48 47 46 50 47 54 53 53 57\n",
      " 45 50 49 56 38 55 51 48 48 49 42 45 52 48 48 41 50 52 47 57 47 54 52 50\n",
      " 47 47 50 48 43 51 50 44 52 54 44 54 51 53 41 53 42 57 49 53 45 51 54 46\n",
      " 40 51 42 48 47 41 52 53 48 51 54 48 45 47 46 51 51 38 46 52 55 50 55 50\n",
      " 50 59 44 51 51 46 47 47 50 44 64 51 52 55 48 47 44 54 50 54 50 57 43 49\n",
      " 54 54 51 46 44 47 47 51 48 49 43 42 50 52 50 46 46 42 51 51 52 56 60 47\n",
      " 49 38 47 60 51 58 47 51 51 41 46 51 43 63 54 44 48 48 48 48 45 53 34 54\n",
      " 44 50 54 51 47 53 55 48 46 51 42 49 51 48 47 57 41 49 50 51 43 53 49 49\n",
      " 58 42 50 49 64 50 42 51 48 51 56 46 50 61 49 45 51 59 49 50 45 57 48 46\n",
      " 48 55 51 49 53 56 48 52 55 48 57 59 55 50 50 49 55 53 45 50 52 52 54 46\n",
      " 55 56 45 54 56 53 50 54 55 54 49 50 56 46 50 57 53 55 47 49 47 47 54 56\n",
      " 48 47 42 47 55 53 48 51 54 59 52 50 52 47 45 49 50 55 57 42 50 47 50 42\n",
      " 50 51 53 56 44 52 46 44 45 53 48 55 57 54 48 53 45 48 45 43 47 39 46 53\n",
      " 49 44 53 56 51 56 51 56 59 48 47 53 48 50 55 49 50 49 40 38 49 54 56 56\n",
      " 43 49 48 41 57 57 48 51 48 45 54 53 48 46 50 50 46 52 49 45 51 53 51 47\n",
      " 49 57 58 52 53 52 54 47 51 47 53 49 47 48 50 37 49 49 52 47 50 45 43 46\n",
      " 39 47 49 51 45 53 58 44 52 46 53 54 53 47 46 56 47 48 51 46 54 57 48 49\n",
      " 47 50 52 50 48 57 59 43 50 53 45 51 50 59 50 56 51 46 42 56 50 49 46 56\n",
      " 63 52 58 53 65 53 40 51 53 53 49 49 49 44 50 57 42 56 54 47 46 46 49 46\n",
      " 40 46 48 52 55 44 49 54 48 38 56 44 52 46 55 46 53 45 46 47 51 54 54 58\n",
      " 48 55 45 57 57 45 57 56 44 48 46 50 51 51 52 51 47 55 51 46 42 55 50 60\n",
      " 54 43 48 52 47 41 53 61 50 47 60 52 45 54 48 53 50 36 50 52 46 45 47 49\n",
      " 42 50 53 54 54 59 58 57 49 54 41 52 52 58 49 55 48 49 50 57 49 51 51 49\n",
      " 45 52 47 53 49 50 53 39 62 59 47 42 49 42 49 61 45 45 53 44 52 51 51 52\n",
      " 52 55 46 51 46 48 60 44 57 47 48 59 52 47 60 53 50 52 54 39 53 54 57 50\n",
      " 48 44 58 51 40 50 58 52 53 56 51 58 51 50 59 51]\n",
      "Minimum number of heads for 100 coinflips - 34\n",
      "Minimum number of heads for 100 coinflips - 65\n"
     ]
    }
   ],
   "source": [
    "coinflip_binomial = rng.binomial(n=100,p=0.5,size=1000)\n",
    "print(\"What the output of the binomial function returns for distribution of 100 coinflips simulated 1000 times\\n\", coinflip_binomial)\n",
    "print(\"Minimum number of heads for 100 coinflips -\", min(coinflip_binomial))\n",
    "print(\"Minimum number of heads for 100 coinflips -\", max(coinflip_binomial))"
   ]
  },
  {
   "cell_type": "markdown",
   "metadata": {},
   "source": [
    "## Visualising the binomial distribution for coin flips\n",
    "From looking at seaborn documentation it appears that distplot is most appropriate way to visualise the binomial distribution as it combines both a histogram and [kernel density estimation](https://en.wikipedia.org/wiki/Kernel_density_estimation) into a single plot.\n",
    "https://seaborn.pydata.org/generated/seaborn.distplot.html"
   ]
  },
  {
   "cell_type": "code",
   "execution_count": 35,
   "metadata": {},
   "outputs": [
    {
     "name": "stderr",
     "output_type": "stream",
     "text": [
      "c:\\python38\\lib\\site-packages\\seaborn\\distributions.py:2551: FutureWarning: `distplot` is a deprecated function and will be removed in a future version. Please adapt your code to use either `displot` (a figure-level function with similar flexibility) or `histplot` (an axes-level function for histograms).\n",
      "  warnings.warn(msg, FutureWarning)\n"
     ]
    },
    {
     "data": {
      "image/png": "[encoded data removed]",
      "text/plain": [
       "<Figure size 432x288 with 1 Axes>"
      ]
     },
     "metadata": {
      "needs_background": "light"
     },
     "output_type": "display_data"
    }
   ],
   "source": [
    "import seaborn as sns\n",
    "sns.distplot(coinflip_binomial, color='orange').set_title('binomial distribution for 1000 games of 100 coinflips');"
   ]
  },
  {
   "cell_type": "markdown",
   "metadata": {},
   "source": [
    "We can see from the above distplot that the values do indeed center around 50 with values out towards 40 and 60 being less probable and beyond that very unlikely.\n",
    "***\n",
    "### Tangent to the original task\n",
    "In the next cell I thought it would be interesting to show the binomial distribution of an unfair coin flip, where instead of it being p=0.5 for heads (or tails) I would instead specify p=0.75 to represent a coin that was weighted so as to return heads 75% of the time.\n",
    "\n",
    "By shifting the value for p, so to does the center of the distribution which makes sense, if we are doing 100 coin flips with 75% probability of getting heads then after 1000 repetitions of this we should see that on average we are mostly getting 75 heads.\n",
    "Similarly if we set p=1 we would get 100 heads for every single repetition as there's 100% chance of getting heads"
   ]
  },
  {
   "cell_type": "code",
   "execution_count": 34,
   "metadata": {},
   "outputs": [
    {
     "name": "stdout",
     "output_type": "stream",
     "text": [
      "Minimum number of heads for 100 coinflips - 60\n",
      "Minimum number of heads for 100 coinflips - 87\n"
     ]
    },
    {
     "name": "stderr",
     "output_type": "stream",
     "text": [
      "c:\\python38\\lib\\site-packages\\seaborn\\distributions.py:2551: FutureWarning: `distplot` is a deprecated function and will be removed in a future version. Please adapt your code to use either `displot` (a figure-level function with similar flexibility) or `histplot` (an axes-level function for histograms).\n",
      "  warnings.warn(msg, FutureWarning)\n"
     ]
    },
    {
     "data": {
      "image/png": "[encoded data removed]",
      "text/plain": [
       "<Figure size 432x288 with 1 Axes>"
      ]
     },
     "metadata": {
      "needs_background": "light"
     },
     "output_type": "display_data"
    }
   ],
   "source": [
    "#little tweak to the binomial distribution showing an uneven weighting for the coin\n",
    "unfair_coinflip_binomial = rng.binomial(n=100,p=0.75,size=1000)\n",
    "#print(\"What the output of the binomial function returns for distribution of 100 coinflips simulated 1000 times\\n\", unfair_coinflip_binomial)\n",
    "print(\"Minimum number of heads for 100 coinflips -\", min(unfair_coinflip_binomial))\n",
    "print(\"Minimum number of heads for 100 coinflips -\", max(unfair_coinflip_binomial))\n",
    "sns.distplot(unfair_coinflip_binomial, color='orange').set_title('binomial distribution for 1000 games of 100 coinflips');"
   ]
  },
  {
   "cell_type": "code",
   "execution_count": 36,
   "metadata": {},
   "outputs": [
    {
     "name": "stdout",
     "output_type": "stream",
     "text": [
      "Minimum number of heads for 100 coinflips - 94\n",
      "Minimum number of heads for 100 coinflips - 100\n"
     ]
    },
    {
     "name": "stderr",
     "output_type": "stream",
     "text": [
      "c:\\python38\\lib\\site-packages\\seaborn\\distributions.py:2551: FutureWarning: `distplot` is a deprecated function and will be removed in a future version. Please adapt your code to use either `displot` (a figure-level function with similar flexibility) or `histplot` (an axes-level function for histograms).\n",
      "  warnings.warn(msg, FutureWarning)\n"
     ]
    },
    {
     "data": {
      "image/png": "[encoded data removed]",
      "text/plain": [
       "<Figure size 432x288 with 1 Axes>"
      ]
     },
     "metadata": {
      "needs_background": "light"
     },
     "output_type": "display_data"
    }
   ],
   "source": [
    "#little tweak to the binomial distribution showing an uneven weighting for the coin\n",
    "reallyunfair_coinflip_binomial = rng.binomial(n=100,p=0.99,size=1000)\n",
    "print(\"Minimum number of heads for 100 coinflips -\", min(reallyunfair_coinflip_binomial))\n",
    "print(\"Minimum number of heads for 100 coinflips -\", max(reallyunfair_coinflip_binomial))\n",
    "sns.distplot(reallyunfair_coinflip_binomial, color='orange').set_title('binomial distribution for 1000 games of 100 coinflips');"
   ]
  },
  {
   "cell_type": "markdown",
   "metadata": {},
   "source": [
    "Interestingly when we give a really close to 1 value for p we get what multiple peaks for our Kernel Density Estimate, what I think is happening here is due to the proximity to 100 which is the max possible wins it removes what would be the right side of the distribution which would even it out."
   ]
  },
  {
   "cell_type": "markdown",
   "metadata": {},
   "source": [
    "***\n",
    "### Recreating the Binomial Distribution without using binomial function\n",
    "Based on the following line of the task brief I am attempting to recreate the binomial distribution using other numpy.random functions\n",
    "\n",
    "- <i>\"Write some python code that simulates flipping a coin 100 times.  Then run this code 1,000 times, keeping track of  the  number  of  heads  in  each  of  the  1,000  simulations.\"</i>\n",
    "\n",
    "To do so I use numpy.random.choice to recreate the 100 coin flips and will then loop through that 1000 times to simulate 1000 games of 100 coin flips while keeping track of the total heads for each game.\n",
    "https://numpy.org/doc/stable/reference/random/generated/numpy.random.Generator.choice.html\n",
    "\n",
    "Alternately I could use np.random.integers to represent 1/0 for head/tails but I like the idea that with choice we can explicitly state the probability for each option. \n",
    "\n",
    "I could also use a list of ['Heads','Tails'] similarly but that would then make summing the total heads more involved."
   ]
  },
  {
   "cell_type": "code",
   "execution_count": 50,
   "metadata": {},
   "outputs": [
    {
     "name": "stdout",
     "output_type": "stream",
     "text": [
      "1\n"
     ]
    }
   ],
   "source": [
    "coinface_list = [1,0] #here 1 is representing heads and 0 represents tails\n",
    "coinflip_choice = rng.choice(a=coinface_list,p=[0.5,0.5]) #p=[0.5,0.5] as need to supply the probabilities for both 1 and 0 for argument a\n",
    "print(coinflip_choice)"
   ]
  },
  {
   "cell_type": "markdown",
   "metadata": {},
   "source": [
    "Summing an array - https://numpy.org/doc/stable/reference/generated/numpy.sum.html"
   ]
  },
  {
   "cell_type": "code",
   "execution_count": 51,
   "metadata": {},
   "outputs": [
    {
     "name": "stdout",
     "output_type": "stream",
     "text": [
      "47\n"
     ]
    }
   ],
   "source": [
    "coinflip_choice = rng.choice(a=coinface_list,p=[0.5,0.5], size=100) #size=100 as want to get an array returned representing 100 coinflips\n",
    "heads = sum(coinflip_choice) #as we have 1's representing heads and 0's representing tails can get the total heads by simply summing the array\n",
    "print(heads)"
   ]
  },
  {
   "cell_type": "code",
   "execution_count": 52,
   "metadata": {},
   "outputs": [],
   "source": [
    "heads_list = [] #declare empty list to be appended to\n",
    "for i in range(1000):\n",
    "    coinflip_choice = rng.choice(a=coinface_list,p=[0.5,0.5], size=100) #per loop get 100 results \n",
    "    heads = sum(coinflip_choice) #get sum of current total heads\n",
    "    heads_list.append(heads) #append to heads list\n"
   ]
  },
  {
   "cell_type": "code",
   "execution_count": 56,
   "metadata": {},
   "outputs": [
    {
     "name": "stderr",
     "output_type": "stream",
     "text": [
      "c:\\python38\\lib\\site-packages\\seaborn\\distributions.py:2551: FutureWarning: `distplot` is a deprecated function and will be removed in a future version. Please adapt your code to use either `displot` (a figure-level function with similar flexibility) or `histplot` (an axes-level function for histograms).\n",
      "  warnings.warn(msg, FutureWarning)\n"
     ]
    },
    {
     "data": {
      "image/png": "[encoded data removed]",
      "text/plain": [
       "<Figure size 432x288 with 1 Axes>"
      ]
     },
     "metadata": {
      "needs_background": "light"
     },
     "output_type": "display_data"
    }
   ],
   "source": [
    "sns.distplot(heads_list, color='orange');"
   ]
  },
  {
   "cell_type": "markdown",
   "metadata": {},
   "source": [
    "***\n",
    "# Task 4\n",
    "## Simpson's Paradox"
   ]
  },
  {
   "cell_type": "code",
   "execution_count": 3,
   "metadata": {},
   "outputs": [],
   "source": [
    "import matplotlib.pyplot as plt\n",
    "import numpy as np\n",
    "#x1 goes from 0 to 10 in 10 steps\n",
    "x1 = np.linspace(1,10, 10)\n",
    "y1 = 4*x1+20\n",
    "#x2 goes from 5 to 15 in 10 steps\n",
    "x2 = np.linspace(5,15,10)\n",
    "y2 = 1*x2"
   ]
  },
  {
   "cell_type": "code",
   "execution_count": 4,
   "metadata": {},
   "outputs": [],
   "source": [
    "#in an effort to create a single combined dataset in order to show the line of fit for x1 and x2 and y1 and y2\n",
    "x1x2 = np.concatenate((x1,x2), axis=None)\n",
    "y1y2 = np.concatenate((y1,y2), axis=None)"
   ]
  },
  {
   "cell_type": "code",
   "execution_count": 16,
   "metadata": {},
   "outputs": [
    {
     "name": "stdout",
     "output_type": "stream",
     "text": [
      "[32.81017993 31.80126439 30.79234884 29.7834333  28.77451775 27.7656022\n",
      " 27.65350048 26.75668666 26.5324832  25.74777111 25.41146593 24.73885557\n",
      " 24.29044866 23.72994002 23.16943139 22.04841411 20.92739684 19.80637957\n",
      " 18.6853623 ]\n"
     ]
    },
    {
     "data": {
      "text/plain": [
       "[<matplotlib.lines.Line2D at 0x1ec58b508e0>]"
      ]
     },
     "execution_count": 16,
     "metadata": {},
     "output_type": "execute_result"
    },
    {
     "data": {
      "image/png": "[encoded data removed]",
      "text/plain": [
       "<Figure size 432x288 with 1 Axes>"
      ]
     },
     "metadata": {
      "needs_background": "light"
     },
     "output_type": "display_data"
    }
   ],
   "source": [
    "plt.scatter(x1,y1, color='r')\n",
    "plt.scatter(x2,y2, color='g')\n",
    "print(np.poly1d(np.polyfit(x1x2, y1y2, 1))(np.unique(x1x2)))\n",
    "m,b = np.polyfit(x1x2,y1y2,1) #as shown by Ian in video on 'Fitting Lines'\n",
    "plt.plot(np.unique(x1x2), m*np.unique(x1x2)+b)"
   ]
  },
  {
   "cell_type": "markdown",
   "metadata": {},
   "source": [
    "With the simple example above we have an illustration of the simpsons paradox, whereby two datasets each show a clear upward linear trend. However when line of fit is acquired for both datasets together it shows a downward linear trend"
   ]
  },
  {
   "cell_type": "code",
   "execution_count": 258,
   "metadata": {},
   "outputs": [],
   "source": [
    "#introducing some randomness to the line's so they are no longer perfectly linear\n",
    "rng = np.random.default_rng() #first declare a random num generator\n",
    "x3 = np.linspace(1,10,100)\n",
    "y3 = 5*x3+40+rng.normal(0.0,3,len(x3))\n",
    "a3,b3 = np.polyfit(x3,y3,1)\n",
    "\n",
    "x4 = np.linspace(10, 20, 100)\n",
    "y4 = 5*x4-0+rng.normal(0.0,5,len(x4))\n",
    "\n",
    "a4,b4 = np.polyfit(x4,y4, 1)\n",
    "\n",
    "#in an effort to create a single combined dataset in order to show the line of fit for x1 and x2 and y1 and y2\n",
    "x3x4 = np.concatenate((x3,x4), axis=None)\n",
    "y3y4 = np.concatenate((y3,y4), axis=None)\n",
    "\n",
    "comb_a, comb_b = np.polyfit(x3x4,y3y4,1)"
   ]
  },
  {
   "cell_type": "code",
   "execution_count": 259,
   "metadata": {},
   "outputs": [
    {
     "data": {
      "text/plain": [
       "Text(0.5, 1.0, 'x3 and x4 vs. y3 and y4')"
      ]
     },
     "execution_count": 259,
     "metadata": {},
     "output_type": "execute_result"
    },
    {
     "data": {
      "image/png": "[encoded data removed]",
      "text/plain": [
       "<Figure size 720x432 with 1 Axes>"
      ]
     },
     "metadata": {
      "needs_background": "light"
     },
     "output_type": "display_data"
    }
   ],
   "source": [
    "plt.figure(figsize=(10,6))\n",
    "plt.plot(np.unique(x3), a3*np.unique(x3)+b3, 'orange', linewidth=2) #want the line underneath the transparent dot's\n",
    "plt.scatter(x3,y3, marker='o', alpha=0.75, label='x3 and y3') #set the scatter dots to be slightly transparent\n",
    "plt.scatter(x4,y4, label='x4 and y4')\n",
    "plt.plot(np.unique(x4), a4*np.unique(x4)+b4, 'green', linewidth=2) #want the line underneath the transparent dot's\n",
    "plt.plot(np.unique(x3x4), comb_a*np.unique(x3x4)+comb_b, color='black', label='Simpsons Paradox Line')\n",
    "plt.legend()\n",
    "plt.title('x3 and x4 vs. y3 and y4')"
   ]
  },
  {
   "cell_type": "markdown",
   "metadata": {},
   "source": [
    "By doing the previous example I can now see a general feel for how to generate complimentary datasets that will show the Simpson's Paradox, and that is when you have a fairly consistent slope (m) by increasing the intercept (b) fairly significantly it leads to a downwards trend when grouping the two together.\n",
    "\n",
    "# For a last illustrative example I want to show 4 datasets on one trend"
   ]
  },
  {
   "cell_type": "code",
   "execution_count": 255,
   "metadata": {},
   "outputs": [
    {
     "data": {
      "image/png": "[encoded data removed]",
      "text/plain": [
       "<Figure size 720x432 with 1 Axes>"
      ]
     },
     "metadata": {
      "needs_background": "light"
     },
     "output_type": "display_data"
    }
   ],
   "source": [
    "x1 = np.linspace(1,10,100)\n",
    "y1 = -5*x1+50+rng.normal(0.0,3,len(x1))\n",
    "a1,b1 = np.polyfit(x1,y1,1)\n",
    "\n",
    "x2 = np.linspace(1, 20, 100)\n",
    "y2 = -5*x2+100+rng.normal(0.0,5,len(x2))\n",
    "a2,b2 = np.polyfit(x2,y2, 1)\n",
    "\n",
    "x3 = np.linspace(5,30,100)\n",
    "y3 = -5*x3+200+rng.normal(0.0,3,len(x3))\n",
    "a3,b3 = np.polyfit(x3,y3,1)\n",
    "\n",
    "x4 = np.linspace(20, 40, 100)\n",
    "y4 = -5*x4+300+rng.normal(0.0,5,len(x4))\n",
    "a4,b4 = np.polyfit(x4,y4, 1)\n",
    "\n",
    "#in an effort to create a single combined dataset in order to show the line of fit for x1 and x2 and y1 and y2\n",
    "x_all = np.concatenate((x1,x2,x3,x4), axis=None)\n",
    "y_all = np.concatenate((y1,y2,y3,y4), axis=None)\n",
    "a_all,b_all = np.polyfit(x_all,y_all, 1)\n",
    "#comb_a, comb_b = np.polyfit(x3x4,y3y4,1)\n",
    "plt.figure(figsize=(10,6))\n",
    "plt.plot(np.unique(x1), a1*np.unique(x1)+b1, 'orange', linewidth=2) #want the line underneath the transparent dot's\n",
    "plt.scatter(x1,y1, marker='o', alpha=0.75, label='x1 and y1') #set the scatter dots to be slightly transparent\n",
    "plt.scatter(x2,y2, label='x2 and y2')\n",
    "plt.plot(np.unique(x2), a2*np.unique(x2)+b2, 'green', linewidth=2) #want the line underneath the transparent dot's\n",
    "#plt.plot(np.unique(x3x4), comb_a*np.unique(x3x4)+comb_b, color='black', label='Simpsons Paradox Line')\n",
    "plt.plot(np.unique(x3), a3*np.unique(x3)+b3, 'purple', linewidth=2) #want the line underneath the transparent dot's\n",
    "plt.scatter(x3,y3, marker='o', alpha=0.75, label='x3 and y3') #set the scatter dots to be slightly transparent\n",
    "plt.scatter(x4,y4, label='x4 and y4')\n",
    "plt.plot(np.unique(x4), a4*np.unique(x4)+b4, 'green', linewidth=2) #want the line underneath the transparent dot's\n",
    "plt.plot(np.unique(xall), a_all*np.unique(xall)+b_all, color='black', label='Simpsons Paradox Line')\n",
    "plt.legend()\n",
    "plt.title('x1,x2,x3,x4 vs. y1,y2,y3,y4');\n"
   ]
  },
  {
   "cell_type": "code",
   "execution_count": null,
   "metadata": {},
   "outputs": [],
   "source": []
  },
  {
   "cell_type": "code",
   "execution_count": null,
   "metadata": {},
   "outputs": [],
   "source": []
  }
 ],
 "metadata": {
  "kernelspec": {
   "display_name": "Python 3",
   "language": "python",
   "name": "python3"
  },
  "language_info": {
   "codemirror_mode": {
    "name": "ipython",
    "version": 3
   },
   "file_extension": ".py",
   "mimetype": "text/x-python",
   "name": "python",
   "nbconvert_exporter": "python",
   "pygments_lexer": "ipython3",
   "version": "3.8.5"
  }
 },
 "nbformat": 4,
 "nbformat_minor": 4
}
