{
 "cells": [
  {
   "cell_type": "markdown",
   "metadata": {},
   "source": [
    "# TASKS\n",
    "This notebook is for solutions to the various task assignments part of the Fundamentals of Data Analysis Module at GMIT.\n",
    "\n",
    "The author is me, Keith Ryan (g00387816@gmit.ie)."
   ]
  },
  {
   "cell_type": "markdown",
   "metadata": {},
   "source": [
    "## Task 1 Brief - Write a Python function called Counts\n",
    "This function takes a list as input and returns a dictionary of unique items in the list as keys and the number of times each item appears as values.  So, the input ['A','A','B','C','A'] should have output {'A': 3,'B': 1,'C': 1}.\n",
    "\n",
    "Your code should not depend on any module from the standard library or otherwise. You should research the task first and include a description with references of your algorithm in the notebook."
   ]
  },
  {
   "cell_type": "markdown",
   "metadata": {},
   "source": [
    "## Research and thoughts on the problem\n",
    "At face value to count the number of occurences of each value in a list will first need to loop through every item in list. As it loops through item by item check has this item already been seen, if so increment some counter by 1, if not set a count of 1 for the current item.\n",
    "Making this more pythonic, we will need a list as an input, a dict to store the items of the list (key) a count of the number of occurences of that specific item (value) and the input list will be iterated through using a for loop.\n",
    "The list and for loop are pretty self-explanatory but how to add items to a dictionary and check if one has already been added is the more involved part."
   ]
  },
  {
   "cell_type": "code",
   "execution_count": 98,
   "metadata": {},
   "outputs": [
    {
     "name": "stdout",
     "output_type": "stream",
     "text": [
      "<class 'dict'>\n",
      "Printing the entire dict - {'a': 1}\n",
      "Printing the dict's key-value - 1\n"
     ]
    }
   ],
   "source": [
    "#creating a dict object and assigning a value to a key\n",
    "#dictionaries operate as a key-pair or key-value, where when you supply a key to a dict object it \n",
    "# returns the corresponding value\n",
    "test_dict = {}\n",
    "print(type(test_dict))\n",
    "test_dict['a'] = 1\n",
    "print(f\"Printing the entire dict - {test_dict}\")\n",
    "print(f\"Printing the dict's key-value - {test_dict['a']}\")"
   ]
  },
  {
   "cell_type": "markdown",
   "metadata": {},
   "source": [
    "For checking whether key exists dict.get() seems like best approach. - [dict.get() documentation](https://docs.python.org/3/library/stdtypes.html?highlight=#dict.get)\n",
    "\n",
    "The next cell is testing this idea out in a for loop and then turning that bit of logic into a function.\n"
   ]
  },
  {
   "cell_type": "code",
   "execution_count": 99,
   "metadata": {},
   "outputs": [
    {
     "name": "stdout",
     "output_type": "stream",
     "text": [
      "A B X Y X A A \n",
      "{'A': 3, 'B': 1, 'X': 2, 'Y': 1}\n"
     ]
    }
   ],
   "source": [
    "#first I need a list to test with\n",
    "test_list = ['A', 'B', 'X', 'Y', 'X', 'A', 'A']\n",
    "#next I will need a dictionary for storing the key-value pairs\n",
    "test_dict = {}\n",
    "\n",
    "#simple for loop to iterate through the list\n",
    "for i in test_list:\n",
    "    print(i, end=' ')\n",
    "    #second arg for .get is 0, .get returns this value should the key not exist\n",
    "    test_dict[i] = test_dict.get(i,0) + 1\n",
    "    '''\n",
    "    Older solution, can be done in single line instead taking advantage of get return value if nothing found\n",
    "    if test_dict.get(i, False) == False:\n",
    "        test_dict[i] = 1 #add key and set value to one\n",
    "    else: \n",
    "        test_dict[i] += 1 #increment key value\n",
    "        \n",
    "    '''\n",
    "print() #introduce a new line between previous print and next print\n",
    "print(test_dict)"
   ]
  },
  {
   "cell_type": "markdown",
   "metadata": {},
   "source": [
    "## Taking tested solution and enclosing with function"
   ]
  },
  {
   "cell_type": "code",
   "execution_count": 100,
   "metadata": {},
   "outputs": [],
   "source": [
    "\n",
    "def list_to_dict(input_list):\n",
    "    #initialise blank dict\n",
    "    output_dict = {}\n",
    "    #loop through provided list\n",
    "    for item in input_list:\n",
    "        #taking advantage of dict.get return, if item not found in dict return 0 then add 1\n",
    "        output_dict[item] = output_dict.get(item, 0) + 1\n",
    "    \n",
    "    return output_dict #return the dictionary"
   ]
  },
  {
   "cell_type": "code",
   "execution_count": 101,
   "metadata": {},
   "outputs": [
    {
     "name": "stdout",
     "output_type": "stream",
     "text": [
      "Provided list - ['A', 'B', 'X', 'Y', 'X', 'A', 'A']\n",
      "Count of items in list - {'A': 3, 'B': 1, 'X': 2, 'Y': 1}\n"
     ]
    }
   ],
   "source": [
    "print(f\"Provided list - {test_list}\")\n",
    "returned_dict = list_to_dict(test_list) #store the result from function call in variable my_dict, then print it\n",
    "print(f\"Count of items in list - {returned_dict}\")"
   ]
  },
  {
   "cell_type": "markdown",
   "metadata": {},
   "source": [
    "## Alternate way of getting same count\n",
    "Instead of using dict.get to verify whether key already exists or not, it's simpler to just use list.count() to return a count of the specified item within the list. - [see list.count() in python3 datastructures documentation](https://docs.python.org/3/tutorial/datastructures.html)\n",
    "\n",
    "Interestingly the count function likewise works for tuples."
   ]
  },
  {
   "cell_type": "code",
   "execution_count": 102,
   "metadata": {},
   "outputs": [
    {
     "name": "stdout",
     "output_type": "stream",
     "text": [
      "{'X', 'A', 'Y', 'B'}\n",
      "{'X': 2, 'A': 3, 'Y': 1, 'B': 1}\n"
     ]
    }
   ],
   "source": [
    "#initially did this without a set, but can make it more efficient if using a set to first convert the list to just it's unique items\n",
    "#in practice this will probably not generally be an issue, but in cases of massive lists, would probably be a very efficient approach\n",
    "unique_items_set = set(test_list) \n",
    "print(unique_items_set)\n",
    "my_dict = {}\n",
    "for i in unique_items_set:\n",
    "    my_dict[i] = test_list.count(i)\n",
    "print(my_dict)"
   ]
  },
  {
   "cell_type": "code",
   "execution_count": 103,
   "metadata": {},
   "outputs": [],
   "source": [
    "def list_count_to_dict(input_list):\n",
    "    #convert list into set to get unique values of the list\n",
    "    input_set = set(input_list)\n",
    "    #initialise blank dictionary\n",
    "    output_dict = {}\n",
    "    #iterate through each item in set (e.g. each unique value from input_list)\n",
    "    for item in input_set:\n",
    "        output_dict[item] = input_list.count(item) #output_dict keys are equal to the count of that item from the list\n",
    "        \n",
    "    return output_dict"
   ]
  },
  {
   "cell_type": "code",
   "execution_count": 104,
   "metadata": {},
   "outputs": [
    {
     "name": "stdout",
     "output_type": "stream",
     "text": [
      "Provided list - ['A', 'B', 'X', 'Y', 'X', 'A', 'A']\n",
      "Count of items in list - {'X': 2, 'A': 3, 'Y': 1, 'B': 1}\n"
     ]
    }
   ],
   "source": [
    "#Returns the counted dict object\n",
    "print(f\"Provided list - {test_list}\")\n",
    "returned_dict = list_count_to_dict(test_list)\n",
    "print(f\"Count of items in list - {returned_dict}\")"
   ]
  },
  {
   "cell_type": "code",
   "execution_count": 105,
   "metadata": {},
   "outputs": [
    {
     "name": "stdout",
     "output_type": "stream",
     "text": [
      "902 ns ± 123 ns per loop (mean ± std. dev. of 7 runs, 1000000 loops each)\n"
     ]
    }
   ],
   "source": [
    "%%timeit\n",
    "list_to_dict(test_list)"
   ]
  },
  {
   "cell_type": "code",
   "execution_count": 106,
   "metadata": {},
   "outputs": [
    {
     "name": "stdout",
     "output_type": "stream",
     "text": [
      "1.01 µs ± 71.1 ns per loop (mean ± std. dev. of 7 runs, 1000000 loops each)\n"
     ]
    }
   ],
   "source": [
    "%%timeit\n",
    "list_count_to_dict(test_list)"
   ]
  },
  {
   "cell_type": "markdown",
   "metadata": {},
   "source": [
    "# Summary and Conclusion of Task 1\n",
    "I found 2 different ways of getting the number of times an item appears in a list.\n",
    "The first was the more obvious solution to me, knowing that as we iterate through a list we can simply add to the dictionary and increment as we go but also accounting for when the item does not already exist in the dictionary.\n",
    "\n",
    "- First was simply to iterate through the list, checking whether the item was already present in the dictionary object, if it was not present add the item to the dictionary and set its value to 1, if it is present increment its value by 1\n",
    "- Alternative solution is to create a set out of the given list to get all of the unique values, then iterating through the set add each item to the dictionary object and set its value equal to the count of that item from the list. This solution has a quirk by changing the order the list items appear in, so if the order of items appearing in the list were to matter this would not work as a solution.\n",
    "\n",
    "In practice I would gravitate more towards the second function which uses a Set to get just the unique items in the list and then iterating through the Set assign each item as a key in the dictionary and put its value as the count of that item from the list - the advantage of this appraoch is you are not looping through for every item in a list, instead you loop through each unique item in the list by taking advantage of how Sets work and inbuilt list functions.\n",
    "***\n"
   ]
  },
  {
   "cell_type": "markdown",
   "metadata": {},
   "source": [
    "# Task 2 Brief - Write a Python function called dicerolls\n",
    "The task this time is to create a function that simulates rolling dice, it should take two parameters, the number of dice and the number of times to roll them. The function will simulate random rolls of the dice and keep track of the total number of occurences of the sum of the dice rolls.\n",
    "\n",
    "After the function has finished it returns a dictionary object holding the number of occurrences the different dice face totals occurred.\n",
    "\n",
    "`{2:19,3:50,4:82,5:112,6:135,7:174,8:133,9:114,10:75,11:70,12:36}`"
   ]
  },
  {
   "cell_type": "code",
   "execution_count": 107,
   "metadata": {},
   "outputs": [
    {
     "name": "stdout",
     "output_type": "stream",
     "text": [
      "Number of dice selected 2 to roll 1000 times\n",
      "Minimum face total = 2\n",
      "Maximum face total = 12\n",
      "Number of dice selected 4 to roll 10 times\n",
      "Minimum face total = 4\n",
      "Maximum face total = 24\n"
     ]
    }
   ],
   "source": [
    "#With this function I want to show what kind of size of dictionary will eventually be returned by the dicerolls function\n",
    "#the more dice you add, the more face totals there will be\n",
    "def exploring_dicerolls(n_dice, n_rolls):\n",
    "    print(f\"Number of dice selected {n_dice} to roll {n_rolls} times\")\n",
    "    print(f\"Minimum face total = {n_dice}\")\n",
    "    print(f\"Maximum face total = {n_dice*6}\")\n",
    "    \n",
    "#try different numbers of dice to show min and max face totals\n",
    "exploring_dicerolls(2,1000)\n",
    "exploring_dicerolls(4,10)"
   ]
  },
  {
   "cell_type": "markdown",
   "metadata": {},
   "source": [
    "## Research and attempts\n",
    "***\n",
    "Exploring the task in earnest now, I can see that we will need to use a library to produce random numbers, unfortunately given the task brief I can only make use of the Standard Python Library, which in this case rules out numpy.random.\n",
    "\n",
    "Handily though the Standard Python Library does have a package that should do exactly what is needed for the dice rolls https://docs.python.org/3/library/random.html\n",
    "\n",
    "Specifically the module random.randint is relevant here as I only want to return an integer value and want to specify 2 numbers as the limits.\n",
    "\n",
    "Initially I thought of a shortcut, where instead of doing individual dice rolls I could instead just get a random number between the min and max of the face totals of the dice rolled, however in practice I saw the issue with this pretty quickly and have imported matplotlib below to illustrate."
   ]
  },
  {
   "cell_type": "code",
   "execution_count": 108,
   "metadata": {},
   "outputs": [
    {
     "data": {
      "image/png": "[encoded data removed]",
      "text/plain": [
       "<Figure size 432x288 with 1 Axes>"
      ]
     },
     "metadata": {
      "needs_background": "light"
     },
     "output_type": "display_data"
    }
   ],
   "source": [
    "import random\n",
    "import matplotlib.pyplot as plt\n",
    "\n",
    "n_dice = 2\n",
    "n_rolls = 100000\n",
    "my_list = []\n",
    "for i in range(n_rolls):\n",
    "    my_list.append(random.randint(n_dice, n_dice*6))\n",
    "plt.hist(my_list);"
   ]
  },
  {
   "cell_type": "markdown",
   "metadata": {},
   "source": [
    "The above histogram plot was very surprising, I expected to see a uniform (practically flat) distribution but instead see a peak around 12.\n",
    "\n",
    "After a bit of playing around with the histogram plot I realised it was down to the number of bins used, as you can see above the last bar around 12 is about twice the height of all the other bars so the bar at 12 is actually covering 11 and 12, see corrected histogram plot below."
   ]
  },
  {
   "cell_type": "code",
   "execution_count": 109,
   "metadata": {},
   "outputs": [
    {
     "data": {
      "image/png": "[encoded data removed]",
      "text/plain": [
       "<Figure size 432x288 with 1 Axes>"
      ]
     },
     "metadata": {
      "needs_background": "light"
     },
     "output_type": "display_data"
    }
   ],
   "source": [
    "# want the number of bins to be 1 greater than the max minus the min \n",
    "# as we want our bins to be inclusive of every point on the range.\n",
    "num_bins = ((n_dice*6) - n_dice) + 1 \n",
    "plt.hist(my_list, bins=num_bins);"
   ]
  },
  {
   "cell_type": "markdown",
   "metadata": {},
   "source": [
    "The issue with the above is that it is not representative of what we would expect to see when rolling dice, when rolling dice (and as illustrated with example Ian provided in the Assignment) we should see a normal distribution, where values to the min and max of the range appear less frequently than those in the middle.\n",
    "\n",
    "If we rolled two dice a number of times, values like 2 and 12 occur less frequently than more central values like and the reason for this is very simple. You can only get 2 and 12 by rolling 1, 1 and 6, 6 respectively, but for other values like say 5, can instead be made up by a number of potential dice rolls (5 could be rolled with a combination of a 1 and 4, 2 and 3 and those combinations in reverse too as the order they occured could change).\n",
    "\n",
    "So for 2 and 12 there is only 1 scenario where we can get either face total, but for 5 we have 4 possible scenarios, therefore 5 is more likely to be seen more frequently.\n",
    "\n",
    "What this means for the function is we need to do independent dice rolls, e.g. a random number between 1 and 6 2 times as opposed to a random number between 2 and 12."
   ]
  },
  {
   "cell_type": "code",
   "execution_count": 110,
   "metadata": {},
   "outputs": [
    {
     "data": {
      "image/png": "[encoded data removed]",
      "text/plain": [
       "<Figure size 432x288 with 1 Axes>"
      ]
     },
     "metadata": {
      "needs_background": "light"
     },
     "output_type": "display_data"
    }
   ],
   "source": [
    "#keeping same structure as before\n",
    "n_dice = 2\n",
    "n_rolls = 100000\n",
    "my_list = []\n",
    "#but changing how the for loop works\n",
    "for i in range(n_rolls):\n",
    "    face_total = 0\n",
    "    for j in range(n_dice):\n",
    "        face_total += random.randint(1,6)\n",
    "    \n",
    "    my_list.append(face_total)\n",
    "plt.hist(my_list, bins=num_bins);"
   ]
  },
  {
   "cell_type": "markdown",
   "metadata": {},
   "source": [
    "The above histogram plot looks much more like what I initially expected to see for the dice rolls."
   ]
  },
  {
   "cell_type": "code",
   "execution_count": 111,
   "metadata": {},
   "outputs": [
    {
     "name": "stdout",
     "output_type": "stream",
     "text": [
      "{2: 2712, 3: 5645, 4: 8360, 5: 10964, 6: 13746, 7: 16681, 8: 14044, 9: 11227, 10: 8397, 11: 5428, 12: 2796}\n"
     ]
    }
   ],
   "source": [
    "my_dict = list_count_to_dict(my_list) #using the previous function from Task 1 to count the list\n",
    "print(my_dict)"
   ]
  },
  {
   "cell_type": "markdown",
   "metadata": {},
   "source": [
    "***\n",
    "## Function - diceRolls\n",
    "***\n",
    "From the last few cells I think I now have a pretty good way of getting the face totals and their count into a dictionary, so now to convert that into a function that takes inputs"
   ]
  },
  {
   "cell_type": "code",
   "execution_count": 112,
   "metadata": {},
   "outputs": [],
   "source": [
    "def diceRolls(n_dice, n_rolls):\n",
    "    face_total_list = []\n",
    "    #loop by number of rolls\n",
    "    for i in range(n_rolls):\n",
    "        face_total = 0 #set face_total to 0 on every new roll\n",
    "        for j in range(n_dice): #for every dice to be rolled n_dice \n",
    "            face_total += random.randint(1,6) #pick a random number from 1 to 6 and add it to face_total\n",
    "        face_total_list.append(face_total) #after finishing loop to tally face_total, continue roll loop\n",
    "    \n",
    "    #finally return a dictionary object in the format {face total : number of occurence} using solution from first task\n",
    "    return list_count_to_dict(face_total_list)\n",
    "    "
   ]
  },
  {
   "cell_type": "code",
   "execution_count": 113,
   "metadata": {},
   "outputs": [
    {
     "name": "stdout",
     "output_type": "stream",
     "text": [
      "{1: 166, 2: 158, 3: 154, 4: 168, 5: 179, 6: 175}\n",
      "{356: 1}\n",
      "{17: 1, 18: 6, 19: 7, 20: 10, 21: 25, 22: 36, 23: 54, 24: 96, 25: 143, 26: 177, 27: 258, 28: 319, 29: 432, 30: 517, 31: 518, 32: 598, 33: 726, 34: 700, 35: 756, 36: 715, 37: 639, 38: 648, 39: 578, 40: 483, 41: 424, 42: 292, 43: 284, 44: 185, 45: 129, 46: 104, 47: 41, 48: 36, 49: 31, 50: 19, 51: 7, 52: 2, 53: 3, 55: 1}\n"
     ]
    }
   ],
   "source": [
    "print(diceRolls(1,1000))\n",
    "print(diceRolls(100,1))\n",
    "print(diceRolls(10, 10000))"
   ]
  },
  {
   "cell_type": "code",
   "execution_count": null,
   "metadata": {},
   "outputs": [],
   "source": []
  },
  {
   "cell_type": "markdown",
   "metadata": {},
   "source": [
    "***\n",
    "# Task 3"
   ]
  },
  {
   "cell_type": "code",
   "execution_count": 123,
   "metadata": {},
   "outputs": [
    {
     "name": "stdout",
     "output_type": "stream",
     "text": [
      "quick test of random number generator - 7\n"
     ]
    }
   ],
   "source": [
    "import numpy as np\n",
    "rng = np.random.default_rng() #using a default_rng object instead of numpy.random functions directly https://numpy.org/doc/stable/reference/random/generator.html\n",
    "print(\"quick test of random number generator -\", rng.integers(10))"
   ]
  },
  {
   "cell_type": "markdown",
   "metadata": {},
   "source": [
    "From the numpy.random documentation the binomial distribution function takes 3 arguments, n for number of trials, p for probability and size for the size of the array to return.\n",
    "\n",
    "https://numpy.org/doc/stable/reference/random/generated/numpy.random.Generator.binomial.html#numpy.random.Generator.binomial\n",
    "\n",
    "From the task definition from Ian, we know that our size (n) is 100 as we want to flip a coin 100 times and observer the result, secondly we know that our probability (p) is 0.5 as there's a 50% chance for either heads or tails and lastly or size is 1000 as we are doing this 1000 times overall."
   ]
  },
  {
   "cell_type": "code",
   "execution_count": 143,
   "metadata": {},
   "outputs": [
    {
     "data": {
      "text/plain": [
       "Text(0.5, 0, 'Wins')"
      ]
     },
     "execution_count": 143,
     "metadata": {},
     "output_type": "execute_result"
    },
    {
     "data": {
      "image/png": "[encoded data removed]",
      "text/plain": [
       "<Figure size 432x288 with 1 Axes>"
      ]
     },
     "metadata": {
      "needs_background": "light"
     },
     "output_type": "display_data"
    }
   ],
   "source": [
    "coinflip_binomial = rng.binomial(100,0.5,1000)\n",
    "plt.hist(coinflip_binomial)\n",
    "plt.title('binomial distribution for 1000 games of 100 coinflips')\n",
    "plt.ylabel('Occurrences')\n",
    "plt.xlabel('Wins')"
   ]
  },
  {
   "cell_type": "code",
   "execution_count": null,
   "metadata": {},
   "outputs": [],
   "source": []
  }
 ],
 "metadata": {
  "kernelspec": {
   "display_name": "fund_data_analysis_project_2020",
   "language": "python",
   "name": "fund_data_analysis_project_2020"
  },
  "language_info": {
   "codemirror_mode": {
    "name": "ipython",
    "version": 3
   },
   "file_extension": ".py",
   "mimetype": "text/x-python",
   "name": "python",
   "nbconvert_exporter": "python",
   "pygments_lexer": "ipython3",
   "version": "3.8.5"
  }
 },
 "nbformat": 4,
 "nbformat_minor": 4
}
